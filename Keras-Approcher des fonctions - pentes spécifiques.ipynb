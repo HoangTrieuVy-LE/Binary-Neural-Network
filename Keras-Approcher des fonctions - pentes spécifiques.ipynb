{
 "cells": [
  {
   "cell_type": "code",
   "execution_count": 1,
   "metadata": {},
   "outputs": [
    {
     "name": "stderr",
     "output_type": "stream",
     "text": [
      "Using TensorFlow backend.\n"
     ]
    }
   ],
   "source": [
    "import numpy as np\n",
    "import matplotlib.pyplot as plt\n",
    "import keras\n",
    "from keras.models import Sequential\n",
    "from keras.layers import Dense\n",
    "from keras.layers import Conv2D\n",
    "from keras.layers import MaxPooling2D\n",
    "from keras.constraints import max_norm, MinMaxNorm"
   ]
  },
  {
   "cell_type": "code",
   "execution_count": 2,
   "metadata": {},
   "outputs": [],
   "source": [
    "def func1(x):\n",
    "    return x**2*(np.abs(x)<=2) + 4*(np.abs(x)>2)\n",
    "\n",
    "def func2(x):\n",
    "    return - x**2*(np.abs(x)<=2) - 4*(np.abs(x)>2)\n",
    "    \n",
    "    \n",
    "Xtest = np.arange(-5, 5, 0.1)\n",
    "Ytest1 = func1(Xtest)\n",
    "Ytest2 = func2(Xtest)\n",
    "\n",
    "Xlearn = np.random.uniform(-5, 5, size=(200))\n",
    "Ylearn1 = func1(Xlearn) + 0.1*np.random.normal(0,1,len(Xlearn))\n",
    "Ylearn2 = func2(Xlearn) + 0.1*np.random.normal(0,1,len(Xlearn))"
   ]
  },
  {
   "cell_type": "code",
   "execution_count": 3,
   "metadata": {},
   "outputs": [
    {
     "data": {
      "image/png": "[encoded data removed]",
      "text/plain": [
       "<Figure size 432x288 with 1 Axes>"
      ]
     },
     "metadata": {
      "needs_background": "light"
     },
     "output_type": "display_data"
    }
   ],
   "source": [
    "plt.plot(Xtest, Ytest1)\n",
    "plt.plot(Xlearn, Ylearn1, '.', label='Raw input data with noise')\n",
    "plt.show()"
   ]
  },
  {
   "cell_type": "code",
   "execution_count": 4,
   "metadata": {},
   "outputs": [
    {
     "data": {
      "image/png": "[encoded data removed]",
      "text/plain": [
       "<Figure size 432x288 with 1 Axes>"
      ]
     },
     "metadata": {
      "needs_background": "light"
     },
     "output_type": "display_data"
    }
   ],
   "source": [
    "plt.plot(Xtest, Ytest2)\n",
    "plt.plot(Xlearn, Ylearn2, '.', label='Raw input data with noise')\n",
    "plt.show()"
   ]
  },
  {
   "cell_type": "code",
   "execution_count": 18,
   "metadata": {},
   "outputs": [],
   "source": [
    "model1 = Sequential()\n",
    "model1.add(Dense(8, input_dim=1, activation='relu'))\n",
    "model1.add(Dense(128, activation='relu'))\n",
    "model1.add(keras.layers.Dropout(0.2))\n",
    "model1.add(Dense(128, activation='relu'))\n",
    "model1.add(keras.layers.Dropout(0.2))\n",
    "model1.add(Dense(1, activation='linear'))\n",
    "model1.compile(optimizer='adam', loss='mse', metrics=['mse'])"
   ]
  },
  {
   "cell_type": "code",
   "execution_count": 19,
   "metadata": {},
   "outputs": [
    {
     "name": "stdout",
     "output_type": "stream",
     "text": [
      "Epoch 1/100\n",
      "200/200 [==============================] - 0s 2ms/step - loss: 4.5973 - mean_squared_error: 4.5973\n",
      "Epoch 2/100\n",
      "200/200 [==============================] - 0s 193us/step - loss: 1.0099 - mean_squared_error: 1.0099\n",
      "Epoch 3/100\n",
      "200/200 [==============================] - 0s 166us/step - loss: 0.7728 - mean_squared_error: 0.7728\n",
      "Epoch 4/100\n",
      "200/200 [==============================] - 0s 183us/step - loss: 0.8076 - mean_squared_error: 0.8076\n",
      "Epoch 5/100\n",
      "200/200 [==============================] - 0s 191us/step - loss: 0.7858 - mean_squared_error: 0.7858\n",
      "Epoch 6/100\n",
      "200/200 [==============================] - 0s 148us/step - loss: 0.7444 - mean_squared_error: 0.7444\n",
      "Epoch 7/100\n",
      "200/200 [==============================] - 0s 167us/step - loss: 0.8031 - mean_squared_error: 0.8031\n",
      "Epoch 8/100\n",
      "200/200 [==============================] - 0s 144us/step - loss: 0.7357 - mean_squared_error: 0.7357\n",
      "Epoch 9/100\n",
      "200/200 [==============================] - 0s 165us/step - loss: 0.7665 - mean_squared_error: 0.7665\n",
      "Epoch 10/100\n",
      "200/200 [==============================] - 0s 169us/step - loss: 0.8074 - mean_squared_error: 0.8074\n",
      "Epoch 11/100\n",
      "200/200 [==============================] - 0s 165us/step - loss: 0.6173 - mean_squared_error: 0.6173\n",
      "Epoch 12/100\n",
      "200/200 [==============================] - 0s 170us/step - loss: 0.7190 - mean_squared_error: 0.7190\n",
      "Epoch 13/100\n",
      "200/200 [==============================] - 0s 179us/step - loss: 0.6927 - mean_squared_error: 0.6927\n",
      "Epoch 14/100\n",
      "200/200 [==============================] - 0s 129us/step - loss: 0.5991 - mean_squared_error: 0.5991\n",
      "Epoch 15/100\n",
      "200/200 [==============================] - 0s 147us/step - loss: 0.5977 - mean_squared_error: 0.5977\n",
      "Epoch 16/100\n",
      "200/200 [==============================] - 0s 170us/step - loss: 0.5698 - mean_squared_error: 0.5698\n",
      "Epoch 17/100\n",
      "200/200 [==============================] - 0s 194us/step - loss: 0.4864 - mean_squared_error: 0.4864\n",
      "Epoch 18/100\n",
      "200/200 [==============================] - 0s 161us/step - loss: 0.4849 - mean_squared_error: 0.4849\n",
      "Epoch 19/100\n",
      "200/200 [==============================] - 0s 201us/step - loss: 0.4851 - mean_squared_error: 0.4851\n",
      "Epoch 20/100\n",
      "200/200 [==============================] - 0s 176us/step - loss: 0.4508 - mean_squared_error: 0.4508\n",
      "Epoch 21/100\n",
      "200/200 [==============================] - 0s 170us/step - loss: 0.4978 - mean_squared_error: 0.4978\n",
      "Epoch 22/100\n",
      "200/200 [==============================] - 0s 156us/step - loss: 0.4631 - mean_squared_error: 0.4631\n",
      "Epoch 23/100\n",
      "200/200 [==============================] - 0s 189us/step - loss: 0.4338 - mean_squared_error: 0.4338\n",
      "Epoch 24/100\n",
      "200/200 [==============================] - 0s 215us/step - loss: 0.4188 - mean_squared_error: 0.4188\n",
      "Epoch 25/100\n",
      "200/200 [==============================] - 0s 177us/step - loss: 0.3616 - mean_squared_error: 0.3616\n",
      "Epoch 26/100\n",
      "200/200 [==============================] - 0s 135us/step - loss: 0.3469 - mean_squared_error: 0.3469\n",
      "Epoch 27/100\n",
      "200/200 [==============================] - 0s 196us/step - loss: 0.3739 - mean_squared_error: 0.3739\n",
      "Epoch 28/100\n",
      "200/200 [==============================] - 0s 184us/step - loss: 0.3152 - mean_squared_error: 0.3152\n",
      "Epoch 29/100\n",
      "200/200 [==============================] - 0s 152us/step - loss: 0.2965 - mean_squared_error: 0.2965\n",
      "Epoch 30/100\n",
      "200/200 [==============================] - 0s 186us/step - loss: 0.2701 - mean_squared_error: 0.2701\n",
      "Epoch 31/100\n",
      "200/200 [==============================] - 0s 144us/step - loss: 0.2694 - mean_squared_error: 0.2694\n",
      "Epoch 32/100\n",
      "200/200 [==============================] - 0s 144us/step - loss: 0.2500 - mean_squared_error: 0.2500\n",
      "Epoch 33/100\n",
      "200/200 [==============================] - 0s 154us/step - loss: 0.2585 - mean_squared_error: 0.2585\n",
      "Epoch 34/100\n",
      "200/200 [==============================] - 0s 145us/step - loss: 0.2329 - mean_squared_error: 0.2329\n",
      "Epoch 35/100\n",
      "200/200 [==============================] - 0s 174us/step - loss: 0.2265 - mean_squared_error: 0.2265\n",
      "Epoch 36/100\n",
      "200/200 [==============================] - 0s 148us/step - loss: 0.2515 - mean_squared_error: 0.2515\n",
      "Epoch 37/100\n",
      "200/200 [==============================] - 0s 167us/step - loss: 0.2913 - mean_squared_error: 0.2913\n",
      "Epoch 38/100\n",
      "200/200 [==============================] - 0s 167us/step - loss: 0.2579 - mean_squared_error: 0.2579\n",
      "Epoch 39/100\n",
      "200/200 [==============================] - 0s 146us/step - loss: 0.2443 - mean_squared_error: 0.2443\n",
      "Epoch 40/100\n",
      "200/200 [==============================] - 0s 141us/step - loss: 0.2093 - mean_squared_error: 0.2093\n",
      "Epoch 41/100\n",
      "200/200 [==============================] - 0s 190us/step - loss: 0.2385 - mean_squared_error: 0.2385\n",
      "Epoch 42/100\n",
      "200/200 [==============================] - 0s 164us/step - loss: 0.1733 - mean_squared_error: 0.1733\n",
      "Epoch 43/100\n",
      "200/200 [==============================] - 0s 133us/step - loss: 0.1756 - mean_squared_error: 0.1756\n",
      "Epoch 44/100\n",
      "200/200 [==============================] - 0s 136us/step - loss: 0.2122 - mean_squared_error: 0.2122\n",
      "Epoch 45/100\n",
      "200/200 [==============================] - 0s 214us/step - loss: 0.1843 - mean_squared_error: 0.1843\n",
      "Epoch 46/100\n",
      "200/200 [==============================] - 0s 184us/step - loss: 0.1807 - mean_squared_error: 0.1807\n",
      "Epoch 47/100\n",
      "200/200 [==============================] - 0s 175us/step - loss: 0.1701 - mean_squared_error: 0.1701\n",
      "Epoch 48/100\n",
      "200/200 [==============================] - 0s 149us/step - loss: 0.1646 - mean_squared_error: 0.1646\n",
      "Epoch 49/100\n",
      "200/200 [==============================] - 0s 111us/step - loss: 0.1950 - mean_squared_error: 0.1950\n",
      "Epoch 50/100\n",
      "200/200 [==============================] - 0s 157us/step - loss: 0.1999 - mean_squared_error: 0.1999\n",
      "Epoch 51/100\n",
      "200/200 [==============================] - 0s 175us/step - loss: 0.1428 - mean_squared_error: 0.1428\n",
      "Epoch 52/100\n",
      "200/200 [==============================] - 0s 164us/step - loss: 0.1662 - mean_squared_error: 0.1662\n",
      "Epoch 53/100\n",
      "200/200 [==============================] - 0s 209us/step - loss: 0.1324 - mean_squared_error: 0.1324\n",
      "Epoch 54/100\n",
      "200/200 [==============================] - 0s 125us/step - loss: 0.1370 - mean_squared_error: 0.1370\n",
      "Epoch 55/100\n",
      "200/200 [==============================] - 0s 160us/step - loss: 0.1633 - mean_squared_error: 0.1633\n",
      "Epoch 56/100\n",
      "200/200 [==============================] - 0s 183us/step - loss: 0.1536 - mean_squared_error: 0.1536\n",
      "Epoch 57/100\n",
      "200/200 [==============================] - 0s 178us/step - loss: 0.1713 - mean_squared_error: 0.1713\n",
      "Epoch 58/100\n",
      "200/200 [==============================] - 0s 195us/step - loss: 0.1456 - mean_squared_error: 0.1456\n",
      "Epoch 59/100\n",
      "200/200 [==============================] - 0s 217us/step - loss: 0.1585 - mean_squared_error: 0.1585\n",
      "Epoch 60/100\n",
      "200/200 [==============================] - 0s 215us/step - loss: 0.1157 - mean_squared_error: 0.1157\n",
      "Epoch 61/100\n",
      "200/200 [==============================] - 0s 252us/step - loss: 0.1300 - mean_squared_error: 0.1300\n",
      "Epoch 62/100\n",
      "200/200 [==============================] - 0s 240us/step - loss: 0.1295 - mean_squared_error: 0.1295\n",
      "Epoch 63/100\n",
      "200/200 [==============================] - 0s 251us/step - loss: 0.1238 - mean_squared_error: 0.1238\n",
      "Epoch 64/100\n",
      "200/200 [==============================] - 0s 257us/step - loss: 0.1195 - mean_squared_error: 0.1195\n",
      "Epoch 65/100\n",
      "200/200 [==============================] - 0s 254us/step - loss: 0.1457 - mean_squared_error: 0.1457\n",
      "Epoch 66/100\n",
      "200/200 [==============================] - 0s 240us/step - loss: 0.1518 - mean_squared_error: 0.1518\n",
      "Epoch 67/100\n",
      "200/200 [==============================] - 0s 228us/step - loss: 0.1087 - mean_squared_error: 0.1087\n",
      "Epoch 68/100\n",
      "200/200 [==============================] - 0s 223us/step - loss: 0.1446 - mean_squared_error: 0.1446\n",
      "Epoch 69/100\n",
      "200/200 [==============================] - 0s 206us/step - loss: 0.1083 - mean_squared_error: 0.1083\n",
      "Epoch 70/100\n",
      "200/200 [==============================] - 0s 177us/step - loss: 0.1040 - mean_squared_error: 0.1040\n",
      "Epoch 71/100\n",
      "200/200 [==============================] - 0s 207us/step - loss: 0.1050 - mean_squared_error: 0.1050\n",
      "Epoch 72/100\n",
      "200/200 [==============================] - 0s 227us/step - loss: 0.1120 - mean_squared_error: 0.1120\n"
     ]
    },
    {
     "name": "stdout",
     "output_type": "stream",
     "text": [
      "Epoch 73/100\n",
      "200/200 [==============================] - 0s 213us/step - loss: 0.1049 - mean_squared_error: 0.1049\n",
      "Epoch 74/100\n",
      "200/200 [==============================] - 0s 210us/step - loss: 0.1189 - mean_squared_error: 0.1189\n",
      "Epoch 75/100\n",
      "200/200 [==============================] - 0s 213us/step - loss: 0.1181 - mean_squared_error: 0.1181\n",
      "Epoch 76/100\n",
      "200/200 [==============================] - 0s 205us/step - loss: 0.1103 - mean_squared_error: 0.1103\n",
      "Epoch 77/100\n",
      "200/200 [==============================] - 0s 262us/step - loss: 0.0971 - mean_squared_error: 0.0971\n",
      "Epoch 78/100\n",
      "200/200 [==============================] - 0s 221us/step - loss: 0.1008 - mean_squared_error: 0.1008\n",
      "Epoch 79/100\n",
      "200/200 [==============================] - 0s 331us/step - loss: 0.1065 - mean_squared_error: 0.1065\n",
      "Epoch 80/100\n",
      "200/200 [==============================] - 0s 149us/step - loss: 0.1149 - mean_squared_error: 0.1149\n",
      "Epoch 81/100\n",
      "200/200 [==============================] - 0s 190us/step - loss: 0.1019 - mean_squared_error: 0.1019\n",
      "Epoch 82/100\n",
      "200/200 [==============================] - 0s 223us/step - loss: 0.1041 - mean_squared_error: 0.1041\n",
      "Epoch 83/100\n",
      "200/200 [==============================] - 0s 229us/step - loss: 0.1207 - mean_squared_error: 0.1207\n",
      "Epoch 84/100\n",
      "200/200 [==============================] - 0s 321us/step - loss: 0.0978 - mean_squared_error: 0.0978\n",
      "Epoch 85/100\n",
      "200/200 [==============================] - 0s 126us/step - loss: 0.1025 - mean_squared_error: 0.1025\n",
      "Epoch 86/100\n",
      "200/200 [==============================] - 0s 172us/step - loss: 0.0968 - mean_squared_error: 0.0968\n",
      "Epoch 87/100\n",
      "200/200 [==============================] - 0s 204us/step - loss: 0.1139 - mean_squared_error: 0.1139\n",
      "Epoch 88/100\n",
      "200/200 [==============================] - 0s 195us/step - loss: 0.1084 - mean_squared_error: 0.1084\n",
      "Epoch 89/100\n",
      "200/200 [==============================] - 0s 232us/step - loss: 0.0897 - mean_squared_error: 0.0897\n",
      "Epoch 90/100\n",
      "200/200 [==============================] - 0s 224us/step - loss: 0.0931 - mean_squared_error: 0.0931\n",
      "Epoch 91/100\n",
      "200/200 [==============================] - 0s 238us/step - loss: 0.0941 - mean_squared_error: 0.0941\n",
      "Epoch 92/100\n",
      "200/200 [==============================] - 0s 245us/step - loss: 0.1011 - mean_squared_error: 0.1011\n",
      "Epoch 93/100\n",
      "200/200 [==============================] - 0s 271us/step - loss: 0.1177 - mean_squared_error: 0.1177\n",
      "Epoch 94/100\n",
      "200/200 [==============================] - 0s 250us/step - loss: 0.0917 - mean_squared_error: 0.0917\n",
      "Epoch 95/100\n",
      "200/200 [==============================] - 0s 239us/step - loss: 0.0984 - mean_squared_error: 0.0984\n",
      "Epoch 96/100\n",
      "200/200 [==============================] - 0s 238us/step - loss: 0.0848 - mean_squared_error: 0.0848\n",
      "Epoch 97/100\n",
      "200/200 [==============================] - 0s 264us/step - loss: 0.0942 - mean_squared_error: 0.0942\n",
      "Epoch 98/100\n",
      "200/200 [==============================] - 0s 227us/step - loss: 0.0970 - mean_squared_error: 0.0970\n",
      "Epoch 99/100\n",
      "200/200 [==============================] - 0s 225us/step - loss: 0.0957 - mean_squared_error: 0.0957\n",
      "Epoch 100/100\n",
      "200/200 [==============================] - 0s 247us/step - loss: 0.0974 - mean_squared_error: 0.0974\n"
     ]
    },
    {
     "data": {
      "text/plain": [
       "<keras.callbacks.History at 0x7ff6e49bab70>"
      ]
     },
     "execution_count": 19,
     "metadata": {},
     "output_type": "execute_result"
    }
   ],
   "source": [
    "nepoch = 100\n",
    "nbatch = 10\n",
    "model1.fit(Xlearn, Ylearn1, epochs=nepoch, batch_size=nbatch)"
   ]
  },
  {
   "cell_type": "code",
   "execution_count": 7,
   "metadata": {},
   "outputs": [
    {
     "data": {
      "text/plain": [
       "<matplotlib.legend.Legend at 0x7ff7046776a0>"
      ]
     },
     "execution_count": 7,
     "metadata": {},
     "output_type": "execute_result"
    },
    {
     "data": {
      "image/png": "[encoded data removed]",
      "text/plain": [
       "<Figure size 432x288 with 1 Axes>"
      ]
     },
     "metadata": {
      "needs_background": "light"
     },
     "output_type": "display_data"
    }
   ],
   "source": [
    "Ylearned1 = model1.predict(Xtest)\n",
    "\n",
    "plt.plot(Xlearn, Ylearn1, '.', label='Raw input data with noise')\n",
    "plt.plot(Xtest, Ytest1, label='True function', c='black')\n",
    "plt.plot(Xtest, Ylearned1, label='Result of neural net', c='red')\n",
    "plt.legend()"
   ]
  },
  {
   "cell_type": "code",
   "execution_count": 15,
   "metadata": {},
   "outputs": [],
   "source": [
    "model2 = Sequential()\n",
    "model2.add(Dense(8, input_dim=1, activation='relu'))\n",
    "model2.add(Dense(128, activation='relu'))\n",
    "model2.add(keras.layers.Dropout(0.2))\n",
    "model2.add(Dense(128, activation='relu'))\n",
    "model2.add(keras.layers.Dropout(0.2))\n",
    "model2.add(Dense(1, activation='linear'))\n",
    "model2.compile(optimizer='adam', loss='mse', metrics=['mse'])"
   ]
  },
  {
   "cell_type": "code",
   "execution_count": 16,
   "metadata": {},
   "outputs": [
    {
     "name": "stdout",
     "output_type": "stream",
     "text": [
      "Epoch 1/100\n",
      "200/200 [==============================] - 0s 2ms/step - loss: 7.8293 - mean_squared_error: 7.8293\n",
      "Epoch 2/100\n",
      "200/200 [==============================] - 0s 164us/step - loss: 1.7964 - mean_squared_error: 1.7964\n",
      "Epoch 3/100\n",
      "200/200 [==============================] - 0s 139us/step - loss: 0.8496 - mean_squared_error: 0.8496\n",
      "Epoch 4/100\n",
      "200/200 [==============================] - 0s 130us/step - loss: 0.7783 - mean_squared_error: 0.7783\n",
      "Epoch 5/100\n",
      "200/200 [==============================] - 0s 137us/step - loss: 0.7531 - mean_squared_error: 0.7531\n",
      "Epoch 6/100\n",
      "200/200 [==============================] - 0s 137us/step - loss: 0.6557 - mean_squared_error: 0.6557\n",
      "Epoch 7/100\n",
      "200/200 [==============================] - 0s 147us/step - loss: 0.6591 - mean_squared_error: 0.6591\n",
      "Epoch 8/100\n",
      "200/200 [==============================] - 0s 180us/step - loss: 0.5538 - mean_squared_error: 0.5538\n",
      "Epoch 9/100\n",
      "200/200 [==============================] - 0s 155us/step - loss: 0.6175 - mean_squared_error: 0.6175\n",
      "Epoch 10/100\n",
      "200/200 [==============================] - 0s 147us/step - loss: 0.5317 - mean_squared_error: 0.5317\n",
      "Epoch 11/100\n",
      "200/200 [==============================] - 0s 133us/step - loss: 0.5406 - mean_squared_error: 0.5406\n",
      "Epoch 12/100\n",
      "200/200 [==============================] - 0s 176us/step - loss: 0.4967 - mean_squared_error: 0.4967\n",
      "Epoch 13/100\n",
      "200/200 [==============================] - 0s 208us/step - loss: 0.4934 - mean_squared_error: 0.4934\n",
      "Epoch 14/100\n",
      "200/200 [==============================] - 0s 153us/step - loss: 0.4457 - mean_squared_error: 0.4457\n",
      "Epoch 15/100\n",
      "200/200 [==============================] - 0s 175us/step - loss: 0.4298 - mean_squared_error: 0.4298\n",
      "Epoch 16/100\n",
      "200/200 [==============================] - 0s 152us/step - loss: 0.4176 - mean_squared_error: 0.4176\n",
      "Epoch 17/100\n",
      "200/200 [==============================] - 0s 152us/step - loss: 0.4217 - mean_squared_error: 0.4217\n",
      "Epoch 18/100\n",
      "200/200 [==============================] - 0s 141us/step - loss: 0.3413 - mean_squared_error: 0.3413\n",
      "Epoch 19/100\n",
      "200/200 [==============================] - 0s 147us/step - loss: 0.3713 - mean_squared_error: 0.3713\n",
      "Epoch 20/100\n",
      "200/200 [==============================] - 0s 121us/step - loss: 0.3148 - mean_squared_error: 0.3148\n",
      "Epoch 21/100\n",
      "200/200 [==============================] - 0s 177us/step - loss: 0.2976 - mean_squared_error: 0.2976\n",
      "Epoch 22/100\n",
      "200/200 [==============================] - 0s 153us/step - loss: 0.2787 - mean_squared_error: 0.2787\n",
      "Epoch 23/100\n",
      "200/200 [==============================] - 0s 164us/step - loss: 0.2278 - mean_squared_error: 0.2278\n",
      "Epoch 24/100\n",
      "200/200 [==============================] - 0s 189us/step - loss: 0.3009 - mean_squared_error: 0.3009\n",
      "Epoch 25/100\n",
      "200/200 [==============================] - 0s 169us/step - loss: 0.2784 - mean_squared_error: 0.2784\n",
      "Epoch 26/100\n",
      "200/200 [==============================] - 0s 164us/step - loss: 0.2804 - mean_squared_error: 0.2804\n",
      "Epoch 27/100\n",
      "200/200 [==============================] - 0s 126us/step - loss: 0.2745 - mean_squared_error: 0.2745\n",
      "Epoch 28/100\n",
      "200/200 [==============================] - 0s 159us/step - loss: 0.2405 - mean_squared_error: 0.2405\n",
      "Epoch 29/100\n",
      "200/200 [==============================] - 0s 144us/step - loss: 0.1988 - mean_squared_error: 0.1988\n",
      "Epoch 30/100\n",
      "200/200 [==============================] - 0s 156us/step - loss: 0.2053 - mean_squared_error: 0.2053\n",
      "Epoch 31/100\n",
      "200/200 [==============================] - 0s 167us/step - loss: 0.1697 - mean_squared_error: 0.1697\n",
      "Epoch 32/100\n",
      "200/200 [==============================] - 0s 158us/step - loss: 0.1707 - mean_squared_error: 0.1707\n",
      "Epoch 33/100\n",
      "200/200 [==============================] - 0s 179us/step - loss: 0.1756 - mean_squared_error: 0.1756\n",
      "Epoch 34/100\n",
      "200/200 [==============================] - 0s 183us/step - loss: 0.1373 - mean_squared_error: 0.1373\n",
      "Epoch 35/100\n",
      "200/200 [==============================] - 0s 162us/step - loss: 0.1388 - mean_squared_error: 0.1388\n",
      "Epoch 36/100\n",
      "200/200 [==============================] - 0s 166us/step - loss: 0.1671 - mean_squared_error: 0.1671\n",
      "Epoch 37/100\n",
      "200/200 [==============================] - 0s 153us/step - loss: 0.1629 - mean_squared_error: 0.1629\n",
      "Epoch 38/100\n",
      "200/200 [==============================] - 0s 144us/step - loss: 0.1449 - mean_squared_error: 0.1449\n",
      "Epoch 39/100\n",
      "200/200 [==============================] - 0s 165us/step - loss: 0.1217 - mean_squared_error: 0.1217\n",
      "Epoch 40/100\n",
      "200/200 [==============================] - 0s 181us/step - loss: 0.1505 - mean_squared_error: 0.1505\n",
      "Epoch 41/100\n",
      "200/200 [==============================] - 0s 163us/step - loss: 0.1326 - mean_squared_error: 0.1326\n",
      "Epoch 42/100\n",
      "200/200 [==============================] - 0s 174us/step - loss: 0.1390 - mean_squared_error: 0.1390\n",
      "Epoch 43/100\n",
      "200/200 [==============================] - 0s 201us/step - loss: 0.1414 - mean_squared_error: 0.1414\n",
      "Epoch 44/100\n",
      "200/200 [==============================] - 0s 222us/step - loss: 0.1273 - mean_squared_error: 0.1273\n",
      "Epoch 45/100\n",
      "200/200 [==============================] - 0s 200us/step - loss: 0.1167 - mean_squared_error: 0.1167\n",
      "Epoch 46/100\n",
      "200/200 [==============================] - 0s 186us/step - loss: 0.1077 - mean_squared_error: 0.1077\n",
      "Epoch 47/100\n",
      "200/200 [==============================] - 0s 181us/step - loss: 0.1233 - mean_squared_error: 0.1233\n",
      "Epoch 48/100\n",
      "200/200 [==============================] - 0s 162us/step - loss: 0.1003 - mean_squared_error: 0.1003\n",
      "Epoch 49/100\n",
      "200/200 [==============================] - 0s 188us/step - loss: 0.1136 - mean_squared_error: 0.1136\n",
      "Epoch 50/100\n",
      "200/200 [==============================] - 0s 170us/step - loss: 0.1226 - mean_squared_error: 0.1226\n",
      "Epoch 51/100\n",
      "200/200 [==============================] - 0s 144us/step - loss: 0.1232 - mean_squared_error: 0.1232\n",
      "Epoch 52/100\n",
      "200/200 [==============================] - 0s 195us/step - loss: 0.1191 - mean_squared_error: 0.1191\n",
      "Epoch 53/100\n",
      "200/200 [==============================] - 0s 148us/step - loss: 0.1069 - mean_squared_error: 0.1069\n",
      "Epoch 54/100\n",
      "200/200 [==============================] - 0s 177us/step - loss: 0.1229 - mean_squared_error: 0.1229\n",
      "Epoch 55/100\n",
      "200/200 [==============================] - 0s 158us/step - loss: 0.1226 - mean_squared_error: 0.1226\n",
      "Epoch 56/100\n",
      "200/200 [==============================] - 0s 132us/step - loss: 0.0932 - mean_squared_error: 0.0932\n",
      "Epoch 57/100\n",
      "200/200 [==============================] - 0s 157us/step - loss: 0.1245 - mean_squared_error: 0.1245\n",
      "Epoch 58/100\n",
      "200/200 [==============================] - 0s 150us/step - loss: 0.1202 - mean_squared_error: 0.1202\n",
      "Epoch 59/100\n",
      "200/200 [==============================] - 0s 192us/step - loss: 0.1014 - mean_squared_error: 0.1014\n",
      "Epoch 60/100\n",
      "200/200 [==============================] - 0s 168us/step - loss: 0.1044 - mean_squared_error: 0.1044\n",
      "Epoch 61/100\n",
      "200/200 [==============================] - 0s 146us/step - loss: 0.1010 - mean_squared_error: 0.1010\n",
      "Epoch 62/100\n",
      "200/200 [==============================] - 0s 150us/step - loss: 0.1125 - mean_squared_error: 0.1125\n",
      "Epoch 63/100\n",
      "200/200 [==============================] - 0s 220us/step - loss: 0.1076 - mean_squared_error: 0.1076\n",
      "Epoch 64/100\n",
      "200/200 [==============================] - 0s 203us/step - loss: 0.0996 - mean_squared_error: 0.0996\n",
      "Epoch 65/100\n",
      "200/200 [==============================] - 0s 229us/step - loss: 0.1222 - mean_squared_error: 0.1222\n",
      "Epoch 66/100\n",
      "200/200 [==============================] - 0s 244us/step - loss: 0.1237 - mean_squared_error: 0.1237\n",
      "Epoch 67/100\n",
      "200/200 [==============================] - 0s 237us/step - loss: 0.1121 - mean_squared_error: 0.1121\n",
      "Epoch 68/100\n",
      "200/200 [==============================] - 0s 235us/step - loss: 0.0848 - mean_squared_error: 0.0848\n",
      "Epoch 69/100\n",
      "200/200 [==============================] - 0s 210us/step - loss: 0.1091 - mean_squared_error: 0.1091\n",
      "Epoch 70/100\n",
      "200/200 [==============================] - 0s 226us/step - loss: 0.1035 - mean_squared_error: 0.1035\n",
      "Epoch 71/100\n",
      "200/200 [==============================] - 0s 213us/step - loss: 0.0997 - mean_squared_error: 0.0997\n",
      "Epoch 72/100\n",
      "200/200 [==============================] - 0s 181us/step - loss: 0.0918 - mean_squared_error: 0.0918\n"
     ]
    },
    {
     "name": "stdout",
     "output_type": "stream",
     "text": [
      "Epoch 73/100\n",
      "200/200 [==============================] - 0s 166us/step - loss: 0.1008 - mean_squared_error: 0.1008\n",
      "Epoch 74/100\n",
      "200/200 [==============================] - 0s 215us/step - loss: 0.0799 - mean_squared_error: 0.0799\n",
      "Epoch 75/100\n",
      "200/200 [==============================] - 0s 205us/step - loss: 0.1083 - mean_squared_error: 0.1083\n",
      "Epoch 76/100\n",
      "200/200 [==============================] - 0s 296us/step - loss: 0.0933 - mean_squared_error: 0.0933\n",
      "Epoch 77/100\n",
      "200/200 [==============================] - 0s 239us/step - loss: 0.1019 - mean_squared_error: 0.1019\n",
      "Epoch 78/100\n",
      "200/200 [==============================] - 0s 153us/step - loss: 0.0871 - mean_squared_error: 0.0871\n",
      "Epoch 79/100\n",
      "200/200 [==============================] - 0s 192us/step - loss: 0.0873 - mean_squared_error: 0.0873\n",
      "Epoch 80/100\n",
      "200/200 [==============================] - 0s 217us/step - loss: 0.1138 - mean_squared_error: 0.1138\n",
      "Epoch 81/100\n",
      "200/200 [==============================] - 0s 211us/step - loss: 0.1114 - mean_squared_error: 0.1114\n",
      "Epoch 82/100\n",
      "200/200 [==============================] - 0s 231us/step - loss: 0.1087 - mean_squared_error: 0.1087\n",
      "Epoch 83/100\n",
      "200/200 [==============================] - 0s 268us/step - loss: 0.0952 - mean_squared_error: 0.0952\n",
      "Epoch 84/100\n",
      "200/200 [==============================] - 0s 153us/step - loss: 0.0922 - mean_squared_error: 0.0922\n",
      "Epoch 85/100\n",
      "200/200 [==============================] - 0s 188us/step - loss: 0.0839 - mean_squared_error: 0.0839\n",
      "Epoch 86/100\n",
      "200/200 [==============================] - 0s 196us/step - loss: 0.0897 - mean_squared_error: 0.0897\n",
      "Epoch 87/100\n",
      "200/200 [==============================] - 0s 217us/step - loss: 0.0919 - mean_squared_error: 0.0919\n",
      "Epoch 88/100\n",
      "200/200 [==============================] - 0s 212us/step - loss: 0.0756 - mean_squared_error: 0.0756\n",
      "Epoch 89/100\n",
      "200/200 [==============================] - 0s 174us/step - loss: 0.1035 - mean_squared_error: 0.1035\n",
      "Epoch 90/100\n",
      "200/200 [==============================] - 0s 193us/step - loss: 0.0872 - mean_squared_error: 0.0872\n",
      "Epoch 91/100\n",
      "200/200 [==============================] - 0s 252us/step - loss: 0.1037 - mean_squared_error: 0.1037\n",
      "Epoch 92/100\n",
      "200/200 [==============================] - 0s 245us/step - loss: 0.0872 - mean_squared_error: 0.0872\n",
      "Epoch 93/100\n",
      "200/200 [==============================] - 0s 234us/step - loss: 0.0845 - mean_squared_error: 0.0845\n",
      "Epoch 94/100\n",
      "200/200 [==============================] - 0s 219us/step - loss: 0.0943 - mean_squared_error: 0.0943\n",
      "Epoch 95/100\n",
      "200/200 [==============================] - 0s 201us/step - loss: 0.0684 - mean_squared_error: 0.0684\n",
      "Epoch 96/100\n",
      "200/200 [==============================] - 0s 226us/step - loss: 0.1003 - mean_squared_error: 0.1003\n",
      "Epoch 97/100\n",
      "200/200 [==============================] - 0s 267us/step - loss: 0.0795 - mean_squared_error: 0.0795\n",
      "Epoch 98/100\n",
      "200/200 [==============================] - 0s 267us/step - loss: 0.0956 - mean_squared_error: 0.0956\n",
      "Epoch 99/100\n",
      "200/200 [==============================] - 0s 254us/step - loss: 0.0977 - mean_squared_error: 0.0977\n",
      "Epoch 100/100\n",
      "200/200 [==============================] - 0s 245us/step - loss: 0.0811 - mean_squared_error: 0.0811\n"
     ]
    },
    {
     "data": {
      "text/plain": [
       "<keras.callbacks.History at 0x7ff6f41f7e10>"
      ]
     },
     "execution_count": 16,
     "metadata": {},
     "output_type": "execute_result"
    }
   ],
   "source": [
    "nepoch = 100\n",
    "nbatch = 10\n",
    "model2.fit(Xlearn, Ylearn2, epochs=nepoch, batch_size=nbatch)"
   ]
  },
  {
   "cell_type": "code",
   "execution_count": 20,
   "metadata": {},
   "outputs": [
    {
     "data": {
      "text/plain": [
       "<matplotlib.legend.Legend at 0x7ff6e43a4e10>"
      ]
     },
     "execution_count": 20,
     "metadata": {},
     "output_type": "execute_result"
    },
    {
     "data": {
      "image/png": "[encoded data removed]",
      "text/plain": [
       "<Figure size 432x288 with 1 Axes>"
      ]
     },
     "metadata": {
      "needs_background": "light"
     },
     "output_type": "display_data"
    }
   ],
   "source": [
    "Ylearned2 = model2.predict(Xtest)\n",
    "\n",
    "plt.plot(Xlearn, Ylearn2, '.', label='Raw input data with noise')\n",
    "plt.plot(Xtest, Ytest2, label='True function', c='black')\n",
    "plt.plot(Xtest, Ylearned2, label='Result of neural net', c='red')\n",
    "plt.legend()"
   ]
  },
  {
   "cell_type": "code",
   "execution_count": null,
   "metadata": {},
   "outputs": [],
   "source": []
  }
 ],
 "metadata": {
  "kernelspec": {
   "display_name": "Python 3",
   "language": "python",
   "name": "python3"
  },
  "language_info": {
   "codemirror_mode": {
    "name": "ipython",
    "version": 3
   },
   "file_extension": ".py",
   "mimetype": "text/x-python",
   "name": "python",
   "nbconvert_exporter": "python",
   "pygments_lexer": "ipython3",
   "version": "3.7.3"
  },
  "latex_envs": {
   "LaTeX_envs_menu_present": true,
   "autoclose": false,
   "autocomplete": true,
   "bibliofile": "biblio.bib",
   "cite_by": "apalike",
   "current_citInitial": 1,
   "eqLabelWithNumbers": true,
   "eqNumInitial": 1,
   "hotkeys": {
    "equation": "Ctrl-E",
    "itemize": "Ctrl-I"
   },
   "labels_anchors": false,
   "latex_user_defs": false,
   "report_style_numbering": false,
   "user_envs_cfg": false
  }
 },
 "nbformat": 4,
 "nbformat_minor": 2
}
