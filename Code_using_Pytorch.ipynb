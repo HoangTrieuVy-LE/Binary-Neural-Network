{
 "cells": [
  {
   "cell_type": "code",
   "execution_count": 1,
   "metadata": {
    "ExecuteTime": {
     "end_time": "2019-10-26T11:07:55.628802Z",
     "start_time": "2019-10-26T11:07:50.730068Z"
    },
    "run_control": {
     "marked": true
    }
   },
   "outputs": [],
   "source": [
    "from __future__ import print_function\n",
    "import torch\n",
    "import numpy as np\n",
    "import math, random\n",
    "import matplotlib.pyplot as plt\n",
    "\n",
    "\n",
    "import torch\n",
    "from torch.autograd import Variable\n",
    "import torch.nn.init as init\n",
    "import torch.nn.functional as F\n",
    "import torch.utils.data as Data\n",
    "dtype = torch.FloatTensor"
   ]
  },
  {
   "cell_type": "markdown",
   "metadata": {},
   "source": [
    "## Calcul du gradient apres binairisation\n",
    "\n",
    "On considere $W\\in \\mathbb{R}^I$ , les parametres reels.\n",
    "\n",
    "On connait une fonction: $$h_{\\epsilon}:\\mathbb{R}\\longrightarrow\\mathbb{R} \\qquad \\in \\mathcal{C}^1$$\n",
    "\n",
    "$$h_{\\epsilon} \\sim h(t) = \\begin{cases} +1, & \\mbox{if } t\\mbox{ >0} \\\\ -1, & \\mbox{if } t\\mbox{ <0} \\end{cases}$$\n",
    "\n",
    "On definit: $H_{\\epsilon}:\\mathbb{R}^I\\longrightarrow\\mathbb{R}^I$, tel que:\n",
    "\n",
    "$$\\forall W\\in\\mathbb{R}^I, \\forall i \\in I, H_{\\epsilon}(W)_i=h_{\\epsilon}(W_i)$$\n",
    "\n",
    "On note $J_{H_{\\epsilon}}(W)$ la matrice Jacobienne de $H_{\\epsilon}$ en $W$, on a la differentielle:\n",
    "\n",
    "\\begin{align*}\n",
    "H_{\\epsilon}(W+W') &= (h_{\\epsilon}(W_i+W_i'))_{i \\in I}\\\\\n",
    "                   &= \\left (h_{\\epsilon}(W_i)+h_{\\epsilon}(W'_i)+0(\\left\\Vert{W'_i}\\right\\Vert)\\right)_{i\\in I}\n",
    "\\end{align*}\n",
    "\n",
    "Donc: $$J_{H_{\\epsilon}}(W):  \\mathbb{R}^I\\longrightarrow\\mathbb{R}^I $$\n",
    "\n",
    "$$W' \\longmapsto \\left(h'_{\\epsilon}(W_i)W'_i\\right)_{i\\in I}$$\n",
    "\n",
    "Si on le represente comme une matrice, c'est une matrice diagonale avec les $(h'_{\\epsilon}(W'_i))_{i\\in I}$ sur la diagonale."
   ]
  },
  {
   "cell_type": "markdown",
   "metadata": {},
   "source": [
    "On considere: $$f: \\mathbb{R}^I\\mapsto \\mathbb{R} $$\n",
    "\n",
    "consistant a calculer la somme des cout des erreurs pour l'echantillon, en $W\\in \\mathbb{R}^I$. On suppose $f$ etant \\mathcal{C}^1\n",
    "\n",
    "On considere: $$f_{\\epsilon}: \\mathbb{R}^I \\mapsto \\mathbb{R}$$ definit par:\n",
    "$$f_{\\epsilon}(W) = f(H_{\\epsilon}(W))$$\n",
    "\n",
    "On a donc $\\forall W,W' \\in \\mathbb{R}^I$:\n",
    "\n",
    "\\begin{align*}\n",
    "f_{\\epsilon}(W+W') &= f(H_{\\epsilon}(W+W'))\\\\\n",
    "                   &= f\\left(H_{\\epsilon}(W) + J_{H_{\\epsilon}}(W) (W') + 0 \\left(\\left\\Vert W'\\right\\Vert\\right)\\right)\\\\\n",
    "                   &= f_{\\epsilon}(W) + \\langle\\nabla f(H_{\\epsilon}(W)),J_{H_{\\epsilon}}(W)(W')\\rangle + 0\\left(\\left\\Vert W'\\right\\Vert\\right)\n",
    "\\end{align*}\n",
    "\n",
    "\n",
    "Ou $\\nabla f(H_{\\epsilon}(W))$ est simplement le resultat de la Back-Propagation applique avec poid $H_{\\epsilon}(W)$.\n",
    "\n",
    "Finalement, on a:\n",
    "$$\\langle\\nabla f\\left(H_{\\epsilon}(W)\\right),J_{H}(W)(W')\\rangle = \\sum_{i\\in I} \\nabla f\\left(H_{\\epsilon}(W)\\right)_i h'_{\\epsilon}(W_i)W'_i$$\n",
    "\n",
    "Ainsi:\n",
    "\n",
    "$$\\nabla f_{\\epsilon}(W)_i=\\nabla f(H_\\epsilon(W))_i h'_{\\epsilon}(W_i)$$"
   ]
  },
  {
   "cell_type": "markdown",
   "metadata": {
    "ExecuteTime": {
     "end_time": "2019-10-27T13:42:15.291266Z",
     "start_time": "2019-10-27T13:42:15.023383Z"
    }
   },
   "source": [
    "## Set-up training data and validation data"
   ]
  },
  {
   "cell_type": "code",
   "execution_count": 2,
   "metadata": {},
   "outputs": [],
   "source": [
    "NUM_EXAMPLES = 2000\n",
    "TRAIN_SPLIT = .9\n",
    "np.random.seed(1000) \n",
    "NUM_HIDDEN_NODES = 200\n",
    "EPOCHS = 3000\n",
    "BATCH_SIZE = 64"
   ]
  },
  {
   "cell_type": "code",
   "execution_count": 3,
   "metadata": {},
   "outputs": [
    {
     "data": {
      "image/png": "[encoded data removed]",
      "text/plain": [
       "<Figure size 432x288 with 1 Axes>"
      ]
     },
     "metadata": {
      "needs_background": "light"
     },
     "output_type": "display_data"
    }
   ],
   "source": [
    "\n",
    "\n",
    "function_to_learn = lambda x: np.sin(x) + 0.1*np.random.randn(*x.shape)\n",
    "all_x = np.float32(np.random.uniform(-2*np.pi, 2*np.pi, (1, NUM_EXAMPLES))).T\n",
    "np.random.shuffle(all_x)\n",
    "train_size = int(NUM_EXAMPLES*TRAIN_SPLIT)\n",
    "\n",
    "trainx = all_x[:train_size]\n",
    "trainy = function_to_learn(trainx)\n",
    "testx = all_x[train_size:]\n",
    "testy = function_to_learn(testx)\n",
    "\n",
    "plt.figure(1)\n",
    "plt.scatter(trainx, trainy,s=10, c='green', label='train')\n",
    "plt.scatter(testx, testy,s=10, c='red', label='validation')\n",
    "plt.legend()\n",
    "plt.show()"
   ]
  },
  {
   "cell_type": "code",
   "execution_count": 4,
   "metadata": {
    "ExecuteTime": {
     "end_time": "2019-10-27T14:12:06.553073Z",
     "start_time": "2019-10-27T14:12:06.226638Z"
    }
   },
   "outputs": [],
   "source": [
    "x = Variable(torch.FloatTensor(trainx))\n",
    "y = Variable(torch.FloatTensor(trainy))"
   ]
  },
  {
   "cell_type": "markdown",
   "metadata": {},
   "source": [
    "## Neural net"
   ]
  },
  {
   "cell_type": "code",
   "execution_count": 5,
   "metadata": {
    "ExecuteTime": {
     "end_time": "2019-10-27T14:11:56.148283Z",
     "start_time": "2019-10-27T14:11:56.142290Z"
    }
   },
   "outputs": [],
   "source": [
    "class Net(torch.nn.Module):\n",
    "    def __init__(self, D_in, H, D_out):\n",
    "        super(Net, self).__init__()\n",
    "        self.input_layer = torch.nn.Linear(D_in, H)\n",
    "        self.hidden1_layer = torch.nn.Linear(H, H)\n",
    "        self.output_layer = torch.nn.Linear(H, D_out)\n",
    "\n",
    "    def forward(self, x):\n",
    "        h_relu = self.input_layer(x).clamp(min=0)\n",
    "        h_relu1 = F.tanh(self.hidden1_layer(h_relu).clamp(min=0))\n",
    "        y_pred = self.output_layer(h_relu1)\n",
    "        return y_pred"
   ]
  },
  {
   "cell_type": "code",
   "execution_count": 6,
   "metadata": {
    "ExecuteTime": {
     "end_time": "2019-10-27T14:20:04.367013Z",
     "start_time": "2019-10-27T14:20:04.362014Z"
    }
   },
   "outputs": [],
   "source": [
    "# ; D_in is input dimension;\n",
    "# H is hidden dimension; D_out is output dimension.\n",
    "# from (https://github.com/jcjohnson/pytorch-examples)\n",
    "D_in, H, D_out =  1, NUM_HIDDEN_NODES, 1\n",
    "\n",
    "model = Net(D_in, H, D_out)\n",
    "\n",
    "\n",
    "for module in model.modules():\n",
    "    if hasattr(module, 'weight') and not module.weight is None:\n",
    "        if not ('BatchNorm' in module.__class__.__name__):\n",
    "            #need to be placed in constraints\n",
    "            init.xavier_uniform_(module.weight, gain=1)\n",
    "        else:\n",
    "            init.constant_(module.weight, 1)\n",
    "    if hasattr(module, 'bias'):\n",
    "        if module.bias is not None:\n",
    "            init.constant_(module.bias, 0)"
   ]
  },
  {
   "cell_type": "code",
   "execution_count": 7,
   "metadata": {
    "ExecuteTime": {
     "end_time": "2019-10-27T15:01:45.160335Z",
     "start_time": "2019-10-27T15:01:45.153340Z"
    },
    "run_control": {
     "marked": true
    }
   },
   "outputs": [
    {
     "name": "stderr",
     "output_type": "stream",
     "text": [
      "/home/jvt15/.local/lib/python3.7/site-packages/torch/nn/_reduction.py:43: UserWarning: size_average and reduce args will be deprecated, please use reduction='sum' instead.\n",
      "  warnings.warn(warning.format(ret))\n"
     ]
    }
   ],
   "source": [
    "criterion = torch.nn.MSELoss(size_average=False)\n",
    "# need to choose a loss function\n",
    "optimizer = torch.optim.SGD(model.parameters(), lr=1e-4)\n",
    "# need to modify the weight constraints"
   ]
  },
  {
   "cell_type": "code",
   "execution_count": 8,
   "metadata": {
    "ExecuteTime": {
     "end_time": "2019-10-27T14:15:17.800865Z",
     "start_time": "2019-10-27T14:15:11.542646Z"
    }
   },
   "outputs": [
    {
     "name": "stderr",
     "output_type": "stream",
     "text": [
      "/home/jvt15/.local/lib/python3.7/site-packages/torch/nn/functional.py:1340: UserWarning: nn.functional.tanh is deprecated. Use torch.tanh instead.\n",
      "  warnings.warn(\"nn.functional.tanh is deprecated. Use torch.tanh instead.\")\n"
     ]
    },
    {
     "name": "stdout",
     "output_type": "stream",
     "text": [
      "Epoch:  0 --------Loss function: 857.53515625\n",
      "Epoch:  500 --------Loss function: 51.93121337890625\n",
      "Epoch:  1000 --------Loss function: 37.26470947265625\n",
      "Epoch:  1500 --------Loss function: 32.09835433959961\n",
      "Epoch:  2000 --------Loss function: 27.727331161499023\n",
      "Epoch:  2500 --------Loss function: 24.54015350341797\n"
     ]
    }
   ],
   "source": [
    "for epoch in range(EPOCHS):\n",
    "\n",
    "    y_pred = model(x)\n",
    "    loss = criterion(y_pred, y)\n",
    "    \n",
    "    optimizer.zero_grad()\n",
    "    loss.backward()\n",
    "    optimizer.step()\n",
    "    \n",
    "    if(epoch%500 == 0):    \n",
    "        print('Epoch: ',epoch,'--------Loss function:', loss.item())"
   ]
  },
  {
   "cell_type": "code",
   "execution_count": 9,
   "metadata": {
    "ExecuteTime": {
     "end_time": "2019-10-27T14:17:11.192936Z",
     "start_time": "2019-10-27T14:17:11.187941Z"
    }
   },
   "outputs": [],
   "source": [
    "x = Variable(torch.FloatTensor(testx))\n",
    "y = Variable(torch.FloatTensor(testy))\n",
    "y_pred = model(x)\n"
   ]
  },
  {
   "cell_type": "code",
   "execution_count": 10,
   "metadata": {
    "ExecuteTime": {
     "end_time": "2019-10-27T14:17:52.444295Z",
     "start_time": "2019-10-27T14:17:52.251392Z"
    }
   },
   "outputs": [
    {
     "data": {
      "text/plain": [
       "<matplotlib.legend.Legend at 0x7f8710428690>"
      ]
     },
     "execution_count": 10,
     "metadata": {},
     "output_type": "execute_result"
    },
    {
     "data": {
      "image/png": "[encoded data removed]",
      "text/plain": [
       "<Figure size 432x288 with 1 Axes>"
      ]
     },
     "metadata": {
      "needs_background": "light"
     },
     "output_type": "display_data"
    }
   ],
   "source": [
    "plt.figure(1)\n",
    "plt.scatter(testx, testy,s=10, c='red', label='validation')\n",
    "plt.scatter(testx, y_pred.data.numpy(),s=10, c='green', label='test')\n",
    "plt.legend()"
   ]
  },
  {
   "cell_type": "markdown",
   "metadata": {},
   "source": [
    "## Discret Function "
   ]
  },
  {
   "cell_type": "code",
   "execution_count": 11,
   "metadata": {},
   "outputs": [],
   "source": [
    "NUM_EXAMPLES = 2000\n",
    "TRAIN_SPLIT = .9\n",
    "np.random.seed(1000) \n",
    "NUM_HIDDEN_NODES = 200\n",
    "EPOCHS = 3000\n",
    "BATCH_SIZE = 64"
   ]
  },
  {
   "cell_type": "code",
   "execution_count": 12,
   "metadata": {},
   "outputs": [
    {
     "data": {
      "image/png": "[encoded data removed]",
      "text/plain": [
       "<Figure size 432x288 with 1 Axes>"
      ]
     },
     "metadata": {
      "needs_background": "light"
     },
     "output_type": "display_data"
    }
   ],
   "source": [
    "def func4(x):\n",
    "    y = np.copy(x)\n",
    "    y[np.where((x<-1))] = -1\n",
    "    y[np.where((x>0) &(x<1))] = 0\n",
    "    y[np.where(x>=1)] = 1\n",
    "    return y\n",
    "    \n",
    "Xtest = np.linspace(-5, 5,int(NUM_EXAMPLES*(1-TRAIN_SPLIT)))\n",
    "Ytest4 = func4(Xtest)\n",
    "\n",
    "Xlearn = np.random.uniform(-5, 5, size=(NUM_EXAMPLES))\n",
    "Ylearn4 = func4(Xlearn) + 0.1*np.random.normal(0,1,len(Xlearn))\n",
    "plt.plot(Xtest, Ytest4,color='r')\n",
    "plt.plot(Xlearn, Ylearn4,'.', label='Raw input data with noise')\n",
    "plt.show()"
   ]
  },
  {
   "cell_type": "code",
   "execution_count": 13,
   "metadata": {},
   "outputs": [],
   "source": [
    "class Net(torch.nn.Module):\n",
    "    def __init__(self, D_in, H, D_out):\n",
    "        super(Net, self).__init__()\n",
    "        self.input_layer = torch.nn.Linear(D_in, H)\n",
    "        self.hidden1_layer = torch.nn.Linear(H, H)\n",
    "        self.output_layer = torch.nn.Linear(H, D_out)\n",
    "\n",
    "    def forward(self, x):\n",
    "        h_relu = self.input_layer(x).clamp(min=0)\n",
    "        h_relu1 = F.tanh(self.hidden1_layer(h_relu).clamp(min=0))\n",
    "        y_pred = self.output_layer(h_relu1)\n",
    "        return y_pred"
   ]
  },
  {
   "cell_type": "code",
   "execution_count": 14,
   "metadata": {},
   "outputs": [],
   "source": [
    "x = Variable(torch.FloatTensor(Xlearn.reshape(len(Xlearn),1)))\n",
    "y = Variable(torch.FloatTensor(Ylearn4.reshape(len(Xlearn),1)))"
   ]
  },
  {
   "cell_type": "code",
   "execution_count": 15,
   "metadata": {},
   "outputs": [],
   "source": [
    "# ; D_in is input dimension;\n",
    "# H is hidden dimension; D_out is output dimension.\n",
    "# from (https://github.com/jcjohnson/pytorch-examples)\n",
    "D_in, H, D_out =  1, NUM_HIDDEN_NODES, 1\n",
    "\n",
    "model = Net(D_in, H, D_out)\n",
    "\n",
    "\n",
    "for module in model.modules():\n",
    "    if hasattr(module, 'weight') and not module.weight is None:\n",
    "        if not ('BatchNorm' in module.__class__.__name__):\n",
    "            #need to be placed in constraints\n",
    "            init.xavier_uniform_(module.weight, gain=1)\n",
    "        else:\n",
    "            init.constant_(module.weight, 1)\n",
    "    if hasattr(module, 'bias'):\n",
    "        if module.bias is not None:\n",
    "            init.constant_(module.bias, 0)"
   ]
  },
  {
   "cell_type": "code",
   "execution_count": 16,
   "metadata": {},
   "outputs": [],
   "source": [
    "criterion = torch.nn.MSELoss(size_average=False)\n",
    "# need to choose a loss function\n",
    "optimizer = torch.optim.SGD(model.parameters(), lr=1e-4)\n",
    "# need to modify the weight constraints"
   ]
  },
  {
   "cell_type": "code",
   "execution_count": 17,
   "metadata": {},
   "outputs": [
    {
     "name": "stdout",
     "output_type": "stream",
     "text": [
      "Epoch:  0 --------Loss function: 1827.7891845703125\n",
      "Epoch:  500 --------Loss function: 41.32223892211914\n",
      "Epoch:  1000 --------Loss function: 35.46219253540039\n",
      "Epoch:  1500 --------Loss function: 29.76974868774414\n",
      "Epoch:  2000 --------Loss function: 27.97208023071289\n",
      "Epoch:  2500 --------Loss function: 26.332374572753906\n"
     ]
    }
   ],
   "source": [
    "for epoch in range(EPOCHS):\n",
    "\n",
    "    y_pred = model(x)\n",
    "    loss = criterion(y_pred, y)\n",
    "    \n",
    "    optimizer.zero_grad()\n",
    "    loss.backward()\n",
    "    optimizer.step()\n",
    "    \n",
    "    if(epoch%500 == 0):    \n",
    "        print('Epoch: ',epoch,'--------Loss function:', loss.item())"
   ]
  },
  {
   "cell_type": "code",
   "execution_count": 18,
   "metadata": {},
   "outputs": [],
   "source": [
    "x = Variable(torch.FloatTensor(Xtest.reshape(len(Xtest),1)))\n",
    "y = Variable(torch.FloatTensor(Ytest4.reshape(len(Xtest),1)))\n",
    "y_pred = model(x)"
   ]
  },
  {
   "cell_type": "code",
   "execution_count": 19,
   "metadata": {},
   "outputs": [
    {
     "data": {
      "text/plain": [
       "<matplotlib.legend.Legend at 0x7f8710329b90>"
      ]
     },
     "execution_count": 19,
     "metadata": {},
     "output_type": "execute_result"
    },
    {
     "data": {
      "image/png": "[encoded data removed]",
      "text/plain": [
       "<Figure size 1080x576 with 1 Axes>"
      ]
     },
     "metadata": {
      "needs_background": "light"
     },
     "output_type": "display_data"
    }
   ],
   "source": [
    "plt.figure(figsize=(15,8))\n",
    "plt.scatter(Xtest, Ytest4,s=10, c='red', label='validation')\n",
    "plt.scatter(Xtest, y_pred.data.numpy(),s=10, c='green', label='test')\n",
    "plt.legend()"
   ]
  },
  {
   "cell_type": "code",
   "execution_count": null,
   "metadata": {},
   "outputs": [],
   "source": []
  },
  {
   "cell_type": "markdown",
   "metadata": {},
   "source": [
    "## With batch-size"
   ]
  },
  {
   "cell_type": "code",
   "execution_count": 20,
   "metadata": {},
   "outputs": [],
   "source": [
    "NUM_EXAMPLES = 2000\n",
    "TRAIN_SPLIT = .9\n",
    "np.random.seed(1000) \n",
    "NUM_HIDDEN_NODES = 200\n",
    "EPOCHS = 3000\n",
    "BATCH_SIZE = 400"
   ]
  },
  {
   "cell_type": "code",
   "execution_count": 157,
   "metadata": {},
   "outputs": [
    {
     "data": {
      "image/png": "[encoded data removed]",
      "text/plain": [
       "<Figure size 432x288 with 1 Axes>"
      ]
     },
     "metadata": {
      "needs_background": "light"
     },
     "output_type": "display_data"
    }
   ],
   "source": [
    "def func4(x):\n",
    "    y = np.copy(x)\n",
    "    y[np.where((x<-1))] = -1\n",
    "    y[np.where((x>0) &(x<1))] = 0\n",
    "    y[np.where(x>=1)] = 1\n",
    "    return y\n",
    "    \n",
    "Xtest = np.linspace(-5, 5,int(NUM_EXAMPLES*(1-TRAIN_SPLIT)))\n",
    "Ytest4 = func4(Xtest)\n",
    "\n",
    "Xlearn = np.random.uniform(-5, 5, size=(NUM_EXAMPLES))\n",
    "Ylearn4 = func4(Xlearn) + 0.1*np.random.normal(0,1,len(Xlearn))\n",
    "plt.plot(Xtest, Ytest4,color='r')\n",
    "plt.plot(Xlearn, Ylearn4,'.', label='Raw input data with noise')\n",
    "plt.show()\n",
    "\n",
    "\n",
    "x = Variable(torch.FloatTensor(Xlearn.reshape(len(Xlearn),1)))\n",
    "y = Variable(torch.FloatTensor(Ylearn4.reshape(len(Xlearn),1)))"
   ]
  },
  {
   "cell_type": "code",
   "execution_count": null,
   "metadata": {},
   "outputs": [],
   "source": []
  },
  {
   "cell_type": "code",
   "execution_count": 158,
   "metadata": {},
   "outputs": [],
   "source": [
    "# ; D_in is input dimension;\n",
    "# H is hidden dimension; D_out is output dimension.\n",
    "# from (https://github.com/jcjohnson/pytorch-examples)\n",
    "D_in, H, D_out =  1, NUM_HIDDEN_NODES, 1\n",
    "\n",
    "model = Net(D_in, H, D_out)\n",
    "\n",
    "\n",
    "for module in model.modules():\n",
    "    if hasattr(module, 'weight') and not module.weight is None:\n",
    "        if not ('BatchNorm' in module.__class__.__name__):\n",
    "            #need to be placed in constraints\n",
    "            init.xavier_uniform_(module.weight, gain=1)\n",
    "        else:\n",
    "            init.constant_(module.weight, 1)\n",
    "    if hasattr(module, 'bias'):\n",
    "        if module.bias is not None:\n",
    "            init.constant_(module.bias, 0)"
   ]
  },
  {
   "cell_type": "code",
   "execution_count": 159,
   "metadata": {},
   "outputs": [],
   "source": [
    "criterion = torch.nn.MSELoss(size_average=False)\n",
    "# need to choose a loss function\n",
    "optimizer = torch.optim.SGD(model.parameters(), lr=1e-4)\n",
    "# need to modify the weight constraints"
   ]
  },
  {
   "cell_type": "code",
   "execution_count": 160,
   "metadata": {},
   "outputs": [],
   "source": [
    "torch_dataset = Data.TensorDataset(x, y)\n",
    "loader = Data.DataLoader(\n",
    "    dataset=torch_dataset, \n",
    "    batch_size=BATCH_SIZE, \n",
    "    shuffle=False, num_workers=2,)"
   ]
  },
  {
   "cell_type": "code",
   "execution_count": 161,
   "metadata": {},
   "outputs": [
    {
     "name": "stderr",
     "output_type": "stream",
     "text": [
      "/home/jvt15/.local/lib/python3.7/site-packages/torch/nn/functional.py:1340: UserWarning: nn.functional.tanh is deprecated. Use torch.tanh instead.\n",
      "  warnings.warn(\"nn.functional.tanh is deprecated. Use torch.tanh instead.\")\n"
     ]
    },
    {
     "name": "stdout",
     "output_type": "stream",
     "text": [
      "Epoch:  0 --------Loss function: 2.896630048751831\n"
     ]
    }
   ],
   "source": [
    "for epoch in range(EPOCHS):\n",
    "    for step, (batch_x, batch_y) in enumerate(loader):\n",
    "        y_pred = model(batch_x)\n",
    "        loss = criterion(y_pred,batch_y)\n",
    "        \n",
    "        optimizer.zero_grad()\n",
    "        loss.backward()\n",
    "        optimizer.step()\n",
    "        \n",
    "    if(epoch%500 == 0):    \n",
    "        print('Epoch: ',epoch,'--------Loss function:', loss.item())\n",
    "        "
   ]
  },
  {
   "cell_type": "code",
   "execution_count": 162,
   "metadata": {},
   "outputs": [
    {
     "name": "stdout",
     "output_type": "stream",
     "text": [
      "Parameter containing:\n",
      "tensor([[ 0.1439],\n",
      "        [-0.0629],\n",
      "        [-0.0608],\n",
      "        [ 0.2369],\n",
      "        [-0.0343],\n",
      "        [-0.0839],\n",
      "        [-0.2296],\n",
      "        [-0.0065],\n",
      "        [ 0.0588],\n",
      "        [-0.2541],\n",
      "        [ 0.2740],\n",
      "        [ 0.3123],\n",
      "        [ 0.1839],\n",
      "        [-0.1275],\n",
      "        [-0.3037],\n",
      "        [ 0.2618],\n",
      "        [ 0.2179],\n",
      "        [-0.1046],\n",
      "        [ 0.0657],\n",
      "        [-0.1317],\n",
      "        [-0.0147],\n",
      "        [-0.0076],\n",
      "        [ 0.2017],\n",
      "        [ 0.0796],\n",
      "        [ 0.0714],\n",
      "        [ 0.2788],\n",
      "        [ 0.1365],\n",
      "        [-0.2458],\n",
      "        [ 0.2416],\n",
      "        [ 0.3128],\n",
      "        [-0.0455],\n",
      "        [ 0.2169],\n",
      "        [-0.0403],\n",
      "        [ 0.2745],\n",
      "        [ 0.2688],\n",
      "        [-0.1417],\n",
      "        [-0.1897],\n",
      "        [-0.1039],\n",
      "        [ 0.1744],\n",
      "        [ 0.2037],\n",
      "        [-0.1826],\n",
      "        [-0.0724],\n",
      "        [ 0.0617],\n",
      "        [ 0.2132],\n",
      "        [-0.1862],\n",
      "        [ 0.3145],\n",
      "        [ 0.0412],\n",
      "        [-0.1656],\n",
      "        [-0.2903],\n",
      "        [ 0.2904]], requires_grad=True)\n",
      "Parameter containing:\n",
      "tensor([-1.0157e-03, -2.3689e-03,  2.5354e-03,  3.4346e-03,  5.0610e-03,\n",
      "        -1.3048e-03,  1.2750e-03, -4.6534e-03, -5.0147e-03,  3.7504e-03,\n",
      "         1.1250e-04, -1.4935e-03, -1.9536e-03,  7.2692e-04, -5.9296e-03,\n",
      "        -2.1165e-03, -5.5290e-03,  2.0137e-03,  5.8578e-04,  2.7330e-03,\n",
      "        -1.2489e-03,  5.7842e-05,  5.2558e-04, -1.0508e-03, -2.0427e-04,\n",
      "         1.7640e-03,  1.9888e-03, -5.7880e-03, -9.4884e-04,  3.0027e-03,\n",
      "        -1.3374e-03, -9.7140e-04,  1.4145e-03,  1.8390e-03, -9.6203e-04,\n",
      "         4.3743e-03, -9.9714e-04,  4.0246e-03,  1.3001e-03,  3.8544e-03,\n",
      "        -1.3473e-03,  8.6720e-04, -4.3133e-04,  4.9623e-05, -4.1220e-03,\n",
      "         1.6687e-03, -2.2769e-03, -4.9059e-03, -5.3173e-03, -2.9761e-04],\n",
      "       requires_grad=True)\n",
      "Parameter containing:\n",
      "tensor([[ 0.1755,  0.2179, -0.2414,  ..., -0.2201, -0.1268, -0.0452],\n",
      "        [-0.0508, -0.1665, -0.0641,  ..., -0.1597,  0.0159,  0.0043],\n",
      "        [ 0.0803, -0.0233, -0.1736,  ..., -0.1967,  0.2468, -0.2245],\n",
      "        ...,\n",
      "        [ 0.2014,  0.1227,  0.2089,  ..., -0.0199, -0.1299,  0.0618],\n",
      "        [-0.0215,  0.1170, -0.0880,  ...,  0.1641, -0.1961,  0.1036],\n",
      "        [-0.0687, -0.0735, -0.1196,  ...,  0.1833,  0.0619, -0.0498]],\n",
      "       requires_grad=True)\n",
      "Parameter containing:\n",
      "tensor([ 0.0000e+00,  0.0000e+00,  3.3541e-03, -2.9915e-03,  3.3058e-03,\n",
      "        -1.1587e-03, -4.2014e-03,  1.2110e-03, -2.4914e-03, -2.9031e-03,\n",
      "         0.0000e+00,  4.3339e-03,  3.5611e-03,  1.4513e-03,  2.0698e-03,\n",
      "         0.0000e+00, -9.9906e-04,  7.2022e-04, -2.3538e-03, -2.6220e-03,\n",
      "         8.7760e-06, -8.2572e-04, -8.6255e-05, -5.8691e-07,  0.0000e+00,\n",
      "        -1.6184e-03,  2.7235e-03, -3.7760e-03,  0.0000e+00,  0.0000e+00,\n",
      "        -7.6097e-04,  0.0000e+00, -3.8103e-03, -4.6278e-03, -3.6961e-03,\n",
      "        -4.9148e-04, -4.8370e-03,  0.0000e+00, -2.2445e-04, -1.2980e-03,\n",
      "         0.0000e+00, -2.2707e-03,  2.1661e-03, -2.5713e-03, -1.1410e-03,\n",
      "        -3.5614e-03,  1.1211e-03,  3.0169e-03, -3.8289e-03,  8.7703e-06],\n",
      "       requires_grad=True)\n",
      "Parameter containing:\n",
      "tensor([[-0.0933, -0.3352, -0.1244,  0.1377,  0.3014,  0.0859, -0.3388, -0.0491,\n",
      "          0.0881,  0.3142,  0.2282, -0.2933, -0.1791, -0.1198, -0.1647, -0.2500,\n",
      "         -0.1082, -0.0534, -0.2281,  0.1936, -0.2948, -0.0824, -0.0025, -0.0780,\n",
      "          0.0375, -0.1531,  0.2688, -0.3145,  0.2804, -0.3199,  0.0256,  0.1289,\n",
      "         -0.3070,  0.2978,  0.1309,  0.0207,  0.2603,  0.0369, -0.0170,  0.1216,\n",
      "         -0.2753,  0.1900,  0.2596,  0.1291, -0.1650,  0.2270,  0.0892,  0.3256,\n",
      "          0.2245, -0.2947]], requires_grad=True)\n",
      "Parameter containing:\n",
      "tensor([-0.0153], requires_grad=True)\n"
     ]
    }
   ],
   "source": [
    "for i in model.parameters():\n",
    "    print(i)"
   ]
  },
  {
   "cell_type": "code",
   "execution_count": null,
   "metadata": {},
   "outputs": [],
   "source": []
  },
  {
   "cell_type": "code",
   "execution_count": 27,
   "metadata": {},
   "outputs": [
    {
     "name": "stdout",
     "output_type": "stream",
     "text": [
      "Net(\n",
      "  (input_layer): Linear(in_features=1, out_features=200, bias=True)\n",
      "  (hidden1_layer): Linear(in_features=200, out_features=200, bias=True)\n",
      "  (output_layer): Linear(in_features=200, out_features=1, bias=True)\n",
      ")\n",
      "Linear(in_features=1, out_features=200, bias=True)\n",
      "Linear(in_features=200, out_features=200, bias=True)\n",
      "Linear(in_features=200, out_features=1, bias=True)\n"
     ]
    }
   ],
   "source": [
    "for module in model.modules():\n",
    "    print(module)"
   ]
  },
  {
   "cell_type": "code",
   "execution_count": 28,
   "metadata": {},
   "outputs": [
    {
     "name": "stdout",
     "output_type": "stream",
     "text": [
      "torch.Size([200, 1])\n",
      "torch.Size([200])\n",
      "torch.Size([200, 200])\n",
      "torch.Size([200])\n",
      "torch.Size([1, 200])\n",
      "torch.Size([1])\n"
     ]
    }
   ],
   "source": [
    "for param in model.parameters():\n",
    "    print(param.shape)"
   ]
  },
  {
   "cell_type": "code",
   "execution_count": null,
   "metadata": {},
   "outputs": [],
   "source": []
  },
  {
   "cell_type": "markdown",
   "metadata": {},
   "source": [
    "## Forward binary step"
   ]
  },
  {
   "cell_type": "code",
   "execution_count": 132,
   "metadata": {},
   "outputs": [],
   "source": [
    "NUM_EXAMPLES = 200\n",
    "TRAIN_SPLIT = .9\n",
    "np.random.seed(1000) \n",
    "NUM_HIDDEN_NODES = 50\n",
    "EPOCHS = 1\n",
    "BATCH_SIZE = 1"
   ]
  },
  {
   "cell_type": "code",
   "execution_count": 133,
   "metadata": {},
   "outputs": [
    {
     "data": {
      "image/png": "[encoded data removed]",
      "text/plain": [
       "<Figure size 432x288 with 1 Axes>"
      ]
     },
     "metadata": {
      "needs_background": "light"
     },
     "output_type": "display_data"
    }
   ],
   "source": [
    "def func4(x):\n",
    "    y = np.copy(x)\n",
    "    y[np.where((x<-1))] = -1\n",
    "    y[np.where((x>0) &(x<1))] = 0\n",
    "    y[np.where(x>=1)] = 1\n",
    "    return y\n",
    "    \n",
    "Xtest = np.linspace(-5, 5,int(NUM_EXAMPLES*(1-TRAIN_SPLIT)))\n",
    "Ytest4 = func4(Xtest)\n",
    "\n",
    "Xlearn = np.random.uniform(-5, 5, size=(NUM_EXAMPLES))\n",
    "Ylearn4 = func4(Xlearn) + 0.1*np.random.normal(0,1,len(Xlearn))\n",
    "plt.plot(Xtest, Ytest4,color='r')\n",
    "plt.plot(Xlearn, Ylearn4,'.', label='Raw input data with noise')\n",
    "plt.show()\n",
    "\n",
    "\n",
    "x = Variable(torch.FloatTensor(Xlearn.reshape(len(Xlearn),1)))\n",
    "y = Variable(torch.FloatTensor(Ylearn4.reshape(len(Xlearn),1)))\n",
    "\n",
    "torch_train_dataset = Data.TensorDataset(x, y)\n",
    "train_loader = Data.DataLoader(\n",
    "    dataset=torch_dataset, \n",
    "    batch_size=BATCH_SIZE, \n",
    "    shuffle=True, num_workers=2,)\n",
    "\n",
    "x = Variable(torch.FloatTensor(Xtest.reshape(len(Xtest),1)))\n",
    "y = Variable(torch.FloatTensor(Ytest4.reshape(len(Xtest),1)))\n",
    "\n",
    "torch_validate_dataset = Data.TensorDataset(x, y)\n",
    "test_loader = Data.DataLoader(\n",
    "    dataset = torch_validate_dataset,\n",
    "    batch_size=BATCH_SIZE,\n",
    "    shuffle=False,num_workers=2,)"
   ]
  },
  {
   "cell_type": "code",
   "execution_count": 134,
   "metadata": {},
   "outputs": [],
   "source": [
    "def forward(data_loader, model, criterion, epoch=0, training=True\n",
    "            , optimizer=None):\n",
    "    for i, (inputs, target) in enumerate(data_loader):\n",
    "        \n",
    "        output_prediction = model(inputs)\n",
    "        loss = criterion(output_prediction, target)\n",
    "        \n",
    "        if training:\n",
    "            optimizer.zero_grad()\n",
    "            loss.backward()\n",
    "            for p in list(model.parameters()):\n",
    "                if hasattr(p,'org'):\n",
    "                    p.data.copy_(p.org)\n",
    "            optimizer.step()\n",
    "            for p in list(model.parameters()):\n",
    "                if hasattr(p,'org'):\n",
    "                    p.org.copy_(p.data.clamp_(-1,1))\n",
    "        \n",
    "    return loss\n",
    "\n",
    "def train(data_loader, model, criterion, epoch, optimizer):\n",
    "    model.train()\n",
    "    return forward(data_loader,model,criterion,epoch,training=True,\n",
    "                   optimizer=optimizer)\n",
    "\n",
    "def validate(data_loader, model, criterion, epoch, training=False,optimizer=None):\n",
    "    model.eval()\n",
    "    return forward(data_loader, model, criterion, epoch, training=False,\n",
    "                  optimizer = None)"
   ]
  },
  {
   "cell_type": "code",
   "execution_count": 135,
   "metadata": {},
   "outputs": [],
   "source": [
    "def Binarize(tensor,quant_mode='det'):\n",
    "    if quant_mode=='det':\n",
    "        return tensor.sign()\n",
    "    else:\n",
    "        return tensor.add_(1).div_(2).add_(torch.rand(tensor.size()).add(-0.5)).clamp_(0,1).round().mul_(2).add_(-1)\n",
    "\n",
    "    \n",
    "class BinarizeLinear(torch.nn.Linear):\n",
    "    def __init__(self,*kargs,**kwargs):\n",
    "        super(BinarizeLinear,self).__init__(*kargs,**kwargs)\n",
    "        \n",
    "    def forward(self,input):\n",
    "        input.data = Binarize(input.data)\n",
    " \n",
    "        if not hasattr(self.weight,'org'):\n",
    "            self.weight.org = self.weight.data.clone()\n",
    "        self.weight.data = Binarize(self.weight.org)\n",
    "        out = torch.nn.functional.linear(input,self.weight)\n",
    "        \n",
    "        if not self.bias is None:\n",
    "            self.bias.org = self.bias.data.clone()\n",
    "            out += self.bias.view(1, -1).expand_as(out)\n",
    "        return out"
   ]
  },
  {
   "cell_type": "code",
   "execution_count": 144,
   "metadata": {},
   "outputs": [],
   "source": [
    "class Binary_Net(torch.nn.Module):\n",
    "    def __init__(self,D_in,H,D_out):\n",
    "        super(Binary_Net,self).__init__()\n",
    "        self.features = torch.nn.Sequential(\n",
    "        BinarizeLinear(D_in,H,bias=True),\n",
    "#         torch.nn.BatchNorm1d(H),\n",
    "#         torch.nn.Hardtanh(inplace=True),\n",
    "        BinarizeLinear(H,D_out,bias=True)    \n",
    "        )\n",
    "        \n",
    "        \n",
    "#         self.regime = {\n",
    "#             0: {'optimizer': 'Adam', 'betas': (0.9, 0.999),'lr': 1e-3},\n",
    "#             40: {'lr': 1e-3},\n",
    "#             80: {'lr': 5e-4},\n",
    "#             100: {'lr': 1e-4},\n",
    "#             120: {'lr': 5e-5},\n",
    "#             140: {'lr': 1e-5}\n",
    "#         }\n",
    "        \n",
    "    def forward(self, x):\n",
    "        x = self.features(x)\n",
    "        return x\n"
   ]
  },
  {
   "cell_type": "code",
   "execution_count": 145,
   "metadata": {},
   "outputs": [],
   "source": [
    "D_in, H, D_out =  1, NUM_HIDDEN_NODES, 1\n",
    "\n",
    "model = Binary_Net(D_in, H, D_out)"
   ]
  },
  {
   "cell_type": "code",
   "execution_count": 146,
   "metadata": {},
   "outputs": [
    {
     "data": {
      "text/plain": [
       "50"
      ]
     },
     "execution_count": 146,
     "metadata": {},
     "output_type": "execute_result"
    }
   ],
   "source": [
    "NUM_HIDDEN_NODES"
   ]
  },
  {
   "cell_type": "code",
   "execution_count": 147,
   "metadata": {},
   "outputs": [
    {
     "data": {
      "text/plain": [
       "Binary_Net(\n",
       "  (features): Sequential(\n",
       "    (0): BinarizeLinear(in_features=1, out_features=50, bias=True)\n",
       "    (1): BinarizeLinear(in_features=50, out_features=1, bias=True)\n",
       "  )\n",
       ")"
      ]
     },
     "execution_count": 147,
     "metadata": {},
     "output_type": "execute_result"
    }
   ],
   "source": [
    "model"
   ]
  },
  {
   "cell_type": "code",
   "execution_count": 148,
   "metadata": {},
   "outputs": [
    {
     "name": "stdout",
     "output_type": "stream",
     "text": [
      "torch.Size([50, 1])\n",
      "torch.Size([50])\n",
      "torch.Size([1, 50])\n",
      "torch.Size([1])\n"
     ]
    }
   ],
   "source": [
    "for param in model.parameters():\n",
    "    print(param.shape)"
   ]
  },
  {
   "cell_type": "code",
   "execution_count": 153,
   "metadata": {},
   "outputs": [
    {
     "name": "stderr",
     "output_type": "stream",
     "text": [
      "/home/jvt15/.local/lib/python3.7/site-packages/torch/nn/_reduction.py:43: UserWarning: size_average and reduce args will be deprecated, please use reduction='sum' instead.\n",
      "  warnings.warn(warning.format(ret))\n"
     ]
    }
   ],
   "source": [
    "criterion = torch.nn.MSELoss(size_average=False)\n",
    "# need to choose a loss function\n",
    "optimizer = torch.optim.Adam(model.parameters(), lr=1e-4)\n",
    "# need to modify the weight constraints"
   ]
  },
  {
   "cell_type": "code",
   "execution_count": 154,
   "metadata": {},
   "outputs": [
    {
     "name": "stdout",
     "output_type": "stream",
     "text": [
      "Epoch:  0 --------Loss function: 4.786065578460693\n"
     ]
    }
   ],
   "source": [
    "for epoch in range(EPOCHS):\n",
    "    \n",
    "    train_loss = train(train_loader, model, criterion, epoch, optimizer)\n",
    "    \n",
    "    val_loss   = validate(test_loader, model, criterion, epoch)\n",
    "    \n",
    "    \n",
    "\n",
    "    if(epoch%1 == 0):    \n",
    "        print('Epoch: ',epoch,'--------Loss function:', loss.item())"
   ]
  },
  {
   "cell_type": "code",
   "execution_count": 155,
   "metadata": {},
   "outputs": [
    {
     "data": {
      "text/plain": [
       "<matplotlib.legend.Legend at 0x7f86f6b81c50>"
      ]
     },
     "execution_count": 155,
     "metadata": {},
     "output_type": "execute_result"
    },
    {
     "data": {
      "image/png": "[encoded data removed]",
      "text/plain": [
       "<Figure size 1080x576 with 1 Axes>"
      ]
     },
     "metadata": {
      "needs_background": "light"
     },
     "output_type": "display_data"
    }
   ],
   "source": [
    "y_pred = model(x)\n",
    "plt.figure(figsize=(15,8))\n",
    "plt.scatter(Xtest, Ytest4,s=10, c='red', label='validation')\n",
    "plt.scatter(Xtest, y_pred.data.numpy(),s=10, c='green', label='test')\n",
    "plt.legend()"
   ]
  },
  {
   "cell_type": "code",
   "execution_count": null,
   "metadata": {},
   "outputs": [],
   "source": []
  },
  {
   "cell_type": "code",
   "execution_count": 156,
   "metadata": {},
   "outputs": [
    {
     "name": "stdout",
     "output_type": "stream",
     "text": [
      "Parameter containing:\n",
      "tensor([[ 1.],\n",
      "        [-1.],\n",
      "        [ 1.],\n",
      "        [-1.],\n",
      "        [ 1.],\n",
      "        [-1.],\n",
      "        [ 1.],\n",
      "        [-1.],\n",
      "        [-1.],\n",
      "        [ 1.],\n",
      "        [-1.],\n",
      "        [ 1.],\n",
      "        [ 1.],\n",
      "        [-1.],\n",
      "        [ 1.],\n",
      "        [-1.],\n",
      "        [ 1.],\n",
      "        [-1.],\n",
      "        [-1.],\n",
      "        [ 1.],\n",
      "        [-1.],\n",
      "        [ 1.],\n",
      "        [ 1.],\n",
      "        [ 1.],\n",
      "        [-1.],\n",
      "        [-1.],\n",
      "        [-1.],\n",
      "        [-1.],\n",
      "        [ 1.],\n",
      "        [-1.],\n",
      "        [-1.],\n",
      "        [ 1.],\n",
      "        [-1.],\n",
      "        [ 1.],\n",
      "        [-1.],\n",
      "        [-1.],\n",
      "        [-1.],\n",
      "        [-1.],\n",
      "        [ 1.],\n",
      "        [ 1.],\n",
      "        [-1.],\n",
      "        [ 1.],\n",
      "        [ 1.],\n",
      "        [ 1.],\n",
      "        [-1.],\n",
      "        [ 1.],\n",
      "        [ 1.],\n",
      "        [ 1.],\n",
      "        [ 1.],\n",
      "        [-1.]], requires_grad=True)\n",
      "Parameter containing:\n",
      "tensor([-0.3598,  0.2191, -0.2611,  0.7419, -0.6927, -0.7446,  0.8755,  0.0668,\n",
      "         0.1969, -0.2989,  0.5806, -0.6225,  0.0679, -0.7176,  0.6007, -0.7155,\n",
      "        -0.2288,  0.7067,  0.7939,  0.6153,  0.2224, -0.2162, -0.5577, -0.9995,\n",
      "         0.1307, -0.4708,  0.3194, -0.9152,  0.4033,  0.0110, -0.6120,  0.3156,\n",
      "         0.0451,  0.8466, -0.4595, -0.6761, -0.6055,  0.8591,  0.6702, -0.8747,\n",
      "        -0.9580,  0.6801,  0.2651, -0.2808,  0.1656, -0.6151, -0.2202,  0.7211,\n",
      "         0.8431,  0.0264], requires_grad=True)\n",
      "Parameter containing:\n",
      "tensor([[ 1., -1., -1.,  1., -1.,  1.,  1., -1.,  1., -1., -1.,  1., -1.,  1.,\n",
      "          1.,  1.,  1., -1.,  1., -1., -1.,  1., -1., -1., -1.,  1.,  1., -1.,\n",
      "          1., -1.,  1., -1.,  1.,  1., -1., -1.,  1.,  1.,  1.,  1.,  1.,  1.,\n",
      "         -1.,  1., -1., -1.,  1., -1.,  1., -1.]], requires_grad=True)\n",
      "Parameter containing:\n",
      "tensor([-0.1132], requires_grad=True)\n"
     ]
    }
   ],
   "source": [
    "for param in model.parameters():\n",
    "    print(param)"
   ]
  },
  {
   "cell_type": "code",
   "execution_count": null,
   "metadata": {},
   "outputs": [],
   "source": []
  },
  {
   "cell_type": "code",
   "execution_count": null,
   "metadata": {},
   "outputs": [],
   "source": []
  }
 ],
 "metadata": {
  "celltoolbar": "Raw Cell Format",
  "kernelspec": {
   "display_name": "Python 3",
   "language": "python",
   "name": "python3"
  },
  "language_info": {
   "codemirror_mode": {
    "name": "ipython",
    "version": 3
   },
   "file_extension": ".py",
   "mimetype": "text/x-python",
   "name": "python",
   "nbconvert_exporter": "python",
   "pygments_lexer": "ipython3",
   "version": "3.7.4"
  },
  "toc": {
   "base_numbering": 1,
   "nav_menu": {},
   "number_sections": true,
   "sideBar": true,
   "skip_h1_title": false,
   "title_cell": "Table of Contents",
   "title_sidebar": "Contents",
   "toc_cell": false,
   "toc_position": {},
   "toc_section_display": true,
   "toc_window_display": false
  },
  "varInspector": {
   "cols": {
    "lenName": 16,
    "lenType": 16,
    "lenVar": 40
   },
   "kernels_config": {
    "python": {
     "delete_cmd_postfix": "",
     "delete_cmd_prefix": "del ",
     "library": "var_list.py",
     "varRefreshCmd": "print(var_dic_list())"
    },
    "r": {
     "delete_cmd_postfix": ") ",
     "delete_cmd_prefix": "rm(",
     "library": "var_list.r",
     "varRefreshCmd": "cat(var_dic_list()) "
    }
   },
   "types_to_exclude": [
    "module",
    "function",
    "builtin_function_or_method",
    "instance",
    "_Feature"
   ],
   "window_display": false
  }
 },
 "nbformat": 4,
 "nbformat_minor": 2
}
