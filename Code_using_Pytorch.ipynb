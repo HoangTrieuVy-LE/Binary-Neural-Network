{
 "cells": [
  {
   "cell_type": "code",
   "execution_count": 1,
   "metadata": {
    "ExecuteTime": {
     "end_time": "2019-10-26T11:07:55.628802Z",
     "start_time": "2019-10-26T11:07:50.730068Z"
    },
    "run_control": {
     "marked": true
    }
   },
   "outputs": [],
   "source": [
    "from __future__ import print_function\n",
    "import torch\n",
    "import numpy as np\n",
    "import math, random\n",
    "import matplotlib.pyplot as plt\n"
   ]
  },
  {
   "cell_type": "markdown",
   "metadata": {},
   "source": [
    "## Calcul du gradient apres binairisation\n",
    "\n",
    "On considere $W\\in \\mathbb{R}^I$ , les parametres reels.\n",
    "\n",
    "On connait une fonction: $$h_{\\epsilon}:\\mathbb{R}\\longrightarrow\\mathbb{R} \\qquad \\in \\mathcal{C}^1$$\n",
    "\n",
    "$$h_{\\epsilon} \\sim h(t) = \\begin{cases} +1, & \\mbox{if } t\\mbox{ >0} \\\\ -1, & \\mbox{if } t\\mbox{ <0} \\end{cases}$$\n",
    "\n",
    "On definit: $H_{\\epsilon}:\\mathbb{R}^I\\longrightarrow\\mathbb{R}^I$, tel que:\n",
    "\n",
    "$$\\forall W\\in\\mathbb{R}^I, \\forall i \\in I, H_{\\epsilon}(W)_i=h_{\\epsilon}(W_i)$$\n",
    "\n",
    "On note $J_{H_{\\epsilon}}(W)$ la matrice Jacobienne de $H_{\\epsilon}$ en $W$, on a la differentielle:\n",
    "\n",
    "\\begin{align*}\n",
    "H_{\\epsilon}(W+W') &= (h_{\\epsilon}(W_i+W_i'))_{i \\in I}\\\\\n",
    "                   &= \\left (h_{\\epsilon}(W_i)+h_{\\epsilon}(W'_i)+0(\\left\\Vert{W'_i}\\right\\Vert)\\right)_{i\\in I}\n",
    "\\end{align*}\n",
    "\n",
    "Donc: $$J_{H_{\\epsilon}}(W):  \\mathbb{R}^I\\longrightarrow\\mathbb{R}^I $$\n",
    "\n",
    "$$W' \\longmapsto \\left(h'_{\\epsilon}(W_i)W'_i\\right)_{i\\in I}$$\n",
    "\n",
    "Si on le represente comme une matrice, c'est une matrice diagonale avec les $(h'_{\\epsilon}(W'_i))_{i\\in I}$ sur la diagonale."
   ]
  },
  {
   "cell_type": "markdown",
   "metadata": {},
   "source": [
    "On considere: $$f: \\mathbb{R}^I\\mapsto \\mathbb{R} $$\n",
    "\n",
    "consistant a calculer la somme des cout des erreurs pour l'echantillon, en $W\\in \\mathbb{R}^I$. On suppose $f$ etant \\mathcal{C}^1\n",
    "\n",
    "On considere: $$f_{\\epsilon}: \\mathbb{R}^I \\mapsto \\mathbb{R}$$ definit par:\n",
    "$$f_{\\epsilon}(W) = f(H_{\\epsilon}(W))$$\n",
    "\n",
    "On a donc $\\forall W,W' \\in \\mathbb{R}^I$:\n",
    "\n",
    "\\begin{align*}\n",
    "f_{\\epsilon}(W+W') &= f(H_{\\epsilon}(W+W'))\\\\\n",
    "                   &= f\\left(H_{\\epsilon}(W) + J_{H_{\\epsilon}}(W) (W') + 0 \\left(\\left\\Vert W'\\right\\Vert\\right)\\right)\\\\\n",
    "                   &= f_{\\epsilon}(W) + \\langle\\nabla f(H_{\\epsilon}(W)),J_{H_{\\epsilon}}(W)(W')\\rangle + 0\\left(\\left\\Vert W'\\right\\Vert\\right)\n",
    "\\end{align*}\n",
    "\n",
    "\n",
    "Ou $\\nabla f(H_{\\epsilon}(W))$ est simplement le resultat de la Back-Propagation applique avec poid $H_{\\epsilon}(W)$.\n",
    "\n",
    "Finalement, on a:\n",
    "$$\\langle\\nabla \\left(H_{\\epsilon}(W)\\right),J_{H}(W)(W')\\rangle = \\sum_{i\\in I} \\nabla f\\left(H_{\\epsilon}(W)\\right)_i h'_{\\epsilon}(W_i)W'_i$$\n",
    "\n",
    "Ainsi:\n",
    "\n",
    "$$\\nabla f_{\\epsilon}(W)_i=\\nabla f(H_\\epsilon(W))_i h'_{\\epsilon}(W_i)$$"
   ]
  },
  {
   "cell_type": "code",
   "execution_count": null,
   "metadata": {},
   "outputs": [],
   "source": [
    "\n"
   ]
  },
  {
   "cell_type": "markdown",
   "metadata": {
    "ExecuteTime": {
     "end_time": "2019-10-27T13:42:15.291266Z",
     "start_time": "2019-10-27T13:42:15.023383Z"
    }
   },
   "source": [
    "## Set-up training data and validation data"
   ]
  },
  {
   "cell_type": "code",
   "execution_count": 74,
   "metadata": {
    "ExecuteTime": {
     "end_time": "2019-10-27T14:00:59.765785Z",
     "start_time": "2019-10-27T14:00:59.762789Z"
    }
   },
   "outputs": [],
   "source": [
    "np.random.seed(1000) \n",
    "NUM_HIDDEN_NODES = 20\n",
    "NUM_EXAMPLES = 1000\n",
    "TRAIN_SPLIT = .9\n",
    "NUM_EPOCHS = 5000"
   ]
  },
  {
   "cell_type": "code",
   "execution_count": 75,
   "metadata": {
    "ExecuteTime": {
     "end_time": "2019-10-27T14:01:00.035082Z",
     "start_time": "2019-10-27T14:01:00.031066Z"
    }
   },
   "outputs": [],
   "source": [
    "function_to_learn = lambda x: np.sin(x) + 0.1*np.random.randn(*x.shape)"
   ]
  },
  {
   "cell_type": "code",
   "execution_count": 76,
   "metadata": {
    "ExecuteTime": {
     "end_time": "2019-10-27T14:01:00.308222Z",
     "start_time": "2019-10-27T14:01:00.302225Z"
    }
   },
   "outputs": [],
   "source": [
    "all_x = np.float32(np.random.uniform(-2*np.pi, 2*np.pi, (1, NUM_EXAMPLES))).T"
   ]
  },
  {
   "cell_type": "code",
   "execution_count": 77,
   "metadata": {
    "ExecuteTime": {
     "end_time": "2019-10-27T14:01:00.591872Z",
     "start_time": "2019-10-27T14:01:00.583878Z"
    }
   },
   "outputs": [],
   "source": [
    "np.random.shuffle(all_x)"
   ]
  },
  {
   "cell_type": "code",
   "execution_count": 78,
   "metadata": {
    "ExecuteTime": {
     "end_time": "2019-10-27T14:01:00.823684Z",
     "start_time": "2019-10-27T14:01:00.818687Z"
    }
   },
   "outputs": [],
   "source": [
    "train_size = int(NUM_EXAMPLES*TRAIN_SPLIT)\n",
    "\n",
    "trainx = all_x[:train_size]\n",
    "trainy = function_to_learn(trainx)"
   ]
  },
  {
   "cell_type": "code",
   "execution_count": 79,
   "metadata": {
    "ExecuteTime": {
     "end_time": "2019-10-27T14:01:01.046770Z",
     "start_time": "2019-10-27T14:01:01.043772Z"
    }
   },
   "outputs": [],
   "source": [
    "testx = all_x[train_size:]\n",
    "testy = function_to_learn(testx)"
   ]
  },
  {
   "cell_type": "code",
   "execution_count": 136,
   "metadata": {
    "ExecuteTime": {
     "end_time": "2019-10-27T14:55:58.195888Z",
     "start_time": "2019-10-27T14:55:58.015992Z"
    }
   },
   "outputs": [
    {
     "data": {
      "image/png": "[encoded data removed]",
      "text/plain": [
       "<Figure size 432x288 with 1 Axes>"
      ]
     },
     "metadata": {
      "needs_background": "light"
     },
     "output_type": "display_data"
    }
   ],
   "source": [
    "plt.figure(1)\n",
    "plt.scatter(trainx, trainy, c='green', label='train')\n",
    "plt.scatter(testx, testy, c='red', label='validation')\n",
    "plt.legend()\n",
    "plt.show()"
   ]
  },
  {
   "cell_type": "code",
   "execution_count": 81,
   "metadata": {
    "ExecuteTime": {
     "end_time": "2019-10-27T14:01:09.631944Z",
     "start_time": "2019-10-27T14:01:09.628946Z"
    }
   },
   "outputs": [],
   "source": [
    "# N is batch size; D_in is input dimension;\n",
    "# H is hidden dimension; D_out is output dimension.\n",
    "# from (https://github.com/jcjohnson/pytorch-examples)\n",
    "N, D_in, H, D_out = NUM_EXAMPLES, 1, NUM_HIDDEN_NODES, 1"
   ]
  },
  {
   "cell_type": "code",
   "execution_count": 82,
   "metadata": {
    "ExecuteTime": {
     "end_time": "2019-10-27T14:01:19.348899Z",
     "start_time": "2019-10-27T14:01:19.340887Z"
    }
   },
   "outputs": [],
   "source": [
    "import torch\n",
    "from torch.autograd import Variable\n",
    "import torch.nn.init as init\n",
    "import torch.nn.functional as F\n",
    "\n",
    "dtype = torch.FloatTensor"
   ]
  },
  {
   "cell_type": "markdown",
   "metadata": {},
   "source": [
    "## Neural net"
   ]
  },
  {
   "cell_type": "code",
   "execution_count": 83,
   "metadata": {
    "ExecuteTime": {
     "end_time": "2019-10-27T14:11:56.148283Z",
     "start_time": "2019-10-27T14:11:56.142290Z"
    }
   },
   "outputs": [],
   "source": [
    "class Net(torch.nn.Module):\n",
    "    def __init__(self, D_in, H, D_out):\n",
    "        super(Net, self).__init__()\n",
    "        self.w1 = torch.nn.Linear(D_in, H)\n",
    "        self.w2 = torch.nn.Linear(H, D_out)\n",
    "\n",
    "    def forward(self, x):\n",
    "        h_relu = F.tanh(self.w1(x).clamp(min=0))\n",
    "        y_pred = self.w2(h_relu)\n",
    "        return y_pred"
   ]
  },
  {
   "cell_type": "code",
   "execution_count": 84,
   "metadata": {
    "ExecuteTime": {
     "end_time": "2019-10-27T14:12:06.553073Z",
     "start_time": "2019-10-27T14:12:06.226638Z"
    }
   },
   "outputs": [],
   "source": [
    "x = Variable(torch.FloatTensor(trainx))\n",
    "y = Variable(torch.FloatTensor(trainy))"
   ]
  },
  {
   "cell_type": "code",
   "execution_count": 95,
   "metadata": {
    "ExecuteTime": {
     "end_time": "2019-10-27T14:20:04.367013Z",
     "start_time": "2019-10-27T14:20:04.362014Z"
    }
   },
   "outputs": [],
   "source": [
    "model = Net(D_in, H, D_out)"
   ]
  },
  {
   "cell_type": "code",
   "execution_count": 126,
   "metadata": {
    "ExecuteTime": {
     "end_time": "2019-10-27T14:30:51.582005Z",
     "start_time": "2019-10-27T14:30:51.575008Z"
    }
   },
   "outputs": [],
   "source": [
    "for module in model.modules():\n",
    "    if hasattr(module, 'weight') and not module.weight is None:\n",
    "        if not ('BatchNorm' in module.__class__.__name__):\n",
    "            #need to be placed in constraints\n",
    "            #init.xavier_uniform_(module.weight, gain=1)\n",
    "        else:\n",
    "            init.constant_(module.weight, 1)\n",
    "    if hasattr(module, 'bias'):\n",
    "        if module.bias is not None:\n",
    "            init.constant_(module.bias, 0)"
   ]
  },
  {
   "cell_type": "code",
   "execution_count": 140,
   "metadata": {
    "ExecuteTime": {
     "end_time": "2019-10-27T15:01:45.160335Z",
     "start_time": "2019-10-27T15:01:45.153340Z"
    },
    "run_control": {
     "marked": true
    }
   },
   "outputs": [
    {
     "name": "stderr",
     "output_type": "stream",
     "text": [
      "C:\\Users\\Eway\\Anaconda3\\lib\\site-packages\\torch\\nn\\_reduction.py:43: UserWarning: size_average and reduce args will be deprecated, please use reduction='sum' instead.\n",
      "  warnings.warn(warning.format(ret))\n"
     ]
    }
   ],
   "source": [
    "criterion = torch.nn.MSELoss(size_average=False)\n",
    "# need to choose a loss function\n",
    "optimizer = torch.optim.SGD(model.parameters(), lr=1e-5)\n",
    "# need to modify the weight constraints"
   ]
  },
  {
   "cell_type": "code",
   "execution_count": 90,
   "metadata": {
    "ExecuteTime": {
     "end_time": "2019-10-27T14:15:17.800865Z",
     "start_time": "2019-10-27T14:15:11.542646Z"
    }
   },
   "outputs": [
    {
     "name": "stderr",
     "output_type": "stream",
     "text": [
      "C:\\Users\\Eway\\Anaconda3\\lib\\site-packages\\torch\\nn\\functional.py:1340: UserWarning: nn.functional.tanh is deprecated. Use torch.tanh instead.\n",
      "  warnings.warn(\"nn.functional.tanh is deprecated. Use torch.tanh instead.\")\n"
     ]
    },
    {
     "name": "stdout",
     "output_type": "stream",
     "text": [
      "4999 58.92702865600586\n"
     ]
    }
   ],
   "source": [
    "for t in range(NUM_EPOCHS):\n",
    "    \n",
    "    optimizer.zero_grad()\n",
    "\n",
    "    y_pred = model(x)\n",
    "    loss = criterion(y_pred, y)\n",
    "    loss.backward()\n",
    "    optimizer.step()\n",
    "        \n",
    "print(t, loss.item())"
   ]
  },
  {
   "cell_type": "code",
   "execution_count": 91,
   "metadata": {
    "ExecuteTime": {
     "end_time": "2019-10-27T14:17:11.192936Z",
     "start_time": "2019-10-27T14:17:11.187941Z"
    }
   },
   "outputs": [],
   "source": [
    "x = Variable(torch.FloatTensor(testx))\n",
    "y = Variable(torch.FloatTensor(testy))\n",
    "y_pred = model(x)\n"
   ]
  },
  {
   "cell_type": "code",
   "execution_count": 94,
   "metadata": {
    "ExecuteTime": {
     "end_time": "2019-10-27T14:17:52.444295Z",
     "start_time": "2019-10-27T14:17:52.251392Z"
    }
   },
   "outputs": [
    {
     "data": {
      "text/plain": [
       "<matplotlib.legend.Legend at 0x2cc925e1a58>"
      ]
     },
     "execution_count": 94,
     "metadata": {},
     "output_type": "execute_result"
    },
    {
     "data": {
      "image/png": "[encoded data removed]",
      "text/plain": [
       "<Figure size 432x288 with 1 Axes>"
      ]
     },
     "metadata": {
      "needs_background": "light"
     },
     "output_type": "display_data"
    }
   ],
   "source": [
    "plt.figure(1)\n",
    "plt.scatter(testx, testy, c='red', label='validation')\n",
    "plt.scatter(testx, y_pred.data.numpy(), c='green', label='test')\n",
    "plt.legend()"
   ]
  },
  {
   "cell_type": "code",
   "execution_count": null,
   "metadata": {},
   "outputs": [],
   "source": []
  }
 ],
 "metadata": {
  "celltoolbar": "Raw Cell Format",
  "kernelspec": {
   "display_name": "Python 3",
   "language": "python",
   "name": "python3"
  },
  "language_info": {
   "codemirror_mode": {
    "name": "ipython",
    "version": 3
   },
   "file_extension": ".py",
   "mimetype": "text/x-python",
   "name": "python",
   "nbconvert_exporter": "python",
   "pygments_lexer": "ipython3",
   "version": "3.7.4"
  },
  "toc": {
   "base_numbering": 1,
   "nav_menu": {},
   "number_sections": true,
   "sideBar": true,
   "skip_h1_title": false,
   "title_cell": "Table of Contents",
   "title_sidebar": "Contents",
   "toc_cell": false,
   "toc_position": {},
   "toc_section_display": true,
   "toc_window_display": false
  },
  "varInspector": {
   "cols": {
    "lenName": 16,
    "lenType": 16,
    "lenVar": 40
   },
   "kernels_config": {
    "python": {
     "delete_cmd_postfix": "",
     "delete_cmd_prefix": "del ",
     "library": "var_list.py",
     "varRefreshCmd": "print(var_dic_list())"
    },
    "r": {
     "delete_cmd_postfix": ") ",
     "delete_cmd_prefix": "rm(",
     "library": "var_list.r",
     "varRefreshCmd": "cat(var_dic_list()) "
    }
   },
   "types_to_exclude": [
    "module",
    "function",
    "builtin_function_or_method",
    "instance",
    "_Feature"
   ],
   "window_display": false
  }
 },
 "nbformat": 4,
 "nbformat_minor": 2
}
